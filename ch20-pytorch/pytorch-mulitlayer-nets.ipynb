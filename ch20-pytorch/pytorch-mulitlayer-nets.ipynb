{
  "nbformat": 4,
  "nbformat_minor": 0,
  "metadata": {
    "colab": {
      "provenance": [],
      "toc_visible": true
    },
    "kernelspec": {
      "name": "python3",
      "display_name": "Python 3"
    },
    "language_info": {
      "name": "python"
    }
  },
  "cells": [
    {
      "cell_type": "code",
      "source": [
        "import torch\n",
        "import torch.nn.functional as F\n",
        "import numpy as np\n",
        "import pandas as pd"
      ],
      "metadata": {
        "id": "4SjmsyhhkOix"
      },
      "execution_count": 7,
      "outputs": []
    },
    {
      "cell_type": "code",
      "source": [
        "# Easy to comprehent numerical values\n",
        "torch.set_printoptions(precision=4, sci_mode=False)"
      ],
      "metadata": {
        "id": "e78SsQSwCvoi"
      },
      "execution_count": 16,
      "outputs": []
    },
    {
      "cell_type": "markdown",
      "source": [],
      "metadata": {
        "id": "EKzkiKl0B0UV"
      }
    },
    {
      "cell_type": "markdown",
      "source": [
        "## Multinomial logistic regression\n",
        "\n",
        "\n",
        "Works with an arbitrary number of classes. In machine learning and deep learning contexts, this multinomial logistic regression model is commonly called softmax regression.  \n",
        "\n",
        "\n",
        "To obtain the class label from the softmax probabilities, we apply the argmax function to select the index of the highest score.  \n",
        "\n",
        "\n",
        "Suppose you have 2 training examples in a 3-class classification setting. What is the cross-entropy loss for a perfectly random prediction?  \n",
        "> 1.1 - A perfectly random prediction yields a probability score of 1/3 in a 3-class setting. Then we have -log(1/3) = 1.10. Note that this is independent of the number of training examples, since we average: -(log(1/3) + log(1/3)) / 2 = 1.10"
      ],
      "metadata": {
        "id": "8WV_-TG2AsAM"
      }
    },
    {
      "cell_type": "code",
      "source": [
        "class SoftmaxRegression(torch.nn.Module):\n",
        "    def __init__(self, num_features, num_classes):\n",
        "        super(SoftmaxRegression, self).__init__()\n",
        "        self.linear = torch.nn.Linear(num_features, num_classes)\n",
        "\n",
        "    def forward(self, x):\n",
        "        logits = self.linear(x)\n",
        "        probs = F.softmax(logits, dim=1)\n",
        "        return logits, probs"
      ],
      "metadata": {
        "id": "eaGz3RDDB0MZ"
      },
      "execution_count": null,
      "outputs": []
    },
    {
      "cell_type": "code",
      "source": [
        "z = torch.tensor([[3.1, -2.3, 5.8],\n",
        "                  [1.1, 1.9, -8.9]])"
      ],
      "metadata": {
        "id": "xaLHFeXsDcU4"
      },
      "execution_count": 5,
      "outputs": []
    },
    {
      "cell_type": "code",
      "source": [
        "sm = F.softmax(z, dim=1)\n",
        "sm"
      ],
      "metadata": {
        "id": "UP1owsXHB0JF",
        "colab": {
          "base_uri": "https://localhost:8080/"
        },
        "outputId": "0537619e-23d2-4717-c864-4a4a9d803e18"
      },
      "execution_count": 8,
      "outputs": [
        {
          "output_type": "execute_result",
          "data": {
            "text/plain": [
              "tensor([[    0.06,     0.00,     0.94],\n",
              "        [    0.31,     0.69,     0.00]])"
            ]
          },
          "metadata": {},
          "execution_count": 8
        }
      ]
    },
    {
      "cell_type": "code",
      "source": [
        "torch.argmax(sm, dim=1)"
      ],
      "metadata": {
        "id": "IrbAJPdPB0Fu",
        "colab": {
          "base_uri": "https://localhost:8080/"
        },
        "outputId": "baaa7d00-fbf6-4a6a-d305-06f755d563e1"
      },
      "execution_count": 9,
      "outputs": [
        {
          "output_type": "execute_result",
          "data": {
            "text/plain": [
              "tensor([2, 1])"
            ]
          },
          "metadata": {},
          "execution_count": 9
        }
      ]
    },
    {
      "cell_type": "code",
      "source": [
        "# Cross-Entropy\n",
        "'''\n",
        "Why need?\n",
        "> need to compute derivatives of the loss w.r.t to the weights, then update the weights\n",
        "> loss - get the estimate of how wrong the model is in its predictions\n",
        "> use it to compute the gradients, update the weights to make better predictions\n",
        "'''"
      ],
      "metadata": {
        "id": "5fv3ODSDBz86",
        "colab": {
          "base_uri": "https://localhost:8080/",
          "height": 73
        },
        "outputId": "286f3704-662f-4316-f6aa-d11ab7f2ded4"
      },
      "execution_count": 11,
      "outputs": [
        {
          "output_type": "execute_result",
          "data": {
            "text/plain": [
              "'\\nWhy need?\\n> need to compute derivatives of the loss w.r.t to the weights, then update the weights\\n> loss - get the estimate of how wrong the model is in its predictions\\n> use it to compute the gradients, update the weights to make better predictions\\n'"
            ],
            "application/vnd.google.colaboratory.intrinsic+json": {
              "type": "string"
            }
          },
          "metadata": {},
          "execution_count": 11
        }
      ]
    },
    {
      "cell_type": "code",
      "source": [
        "y = torch.tensor([0, 2, 2, 1])\n",
        "y_onehot = F.one_hot(y)\n",
        "y_onehot"
      ],
      "metadata": {
        "colab": {
          "base_uri": "https://localhost:8080/"
        },
        "id": "Suy0-z1mF1Ay",
        "outputId": "cc6b55b0-cc21-49f3-9a9e-201c01a87786"
      },
      "execution_count": 12,
      "outputs": [
        {
          "output_type": "execute_result",
          "data": {
            "text/plain": [
              "tensor([[1, 0, 0],\n",
              "        [0, 0, 1],\n",
              "        [0, 0, 1],\n",
              "        [0, 1, 0]])"
            ]
          },
          "metadata": {},
          "execution_count": 12
        }
      ]
    },
    {
      "cell_type": "code",
      "source": [
        "net_inputs = torch.tensor([[1.5, 0.1, -0.4],\n",
        "                           [0.5, 0.7, 2.1],\n",
        "                           [-2.1, 1.1, 0.8],\n",
        "                           [1.1, 2.5, -1.2]])"
      ],
      "metadata": {
        "id": "_XBqXLpnF03k"
      },
      "execution_count": 13,
      "outputs": []
    },
    {
      "cell_type": "code",
      "source": [
        "activations = torch.softmax(net_inputs, dim=1)\n",
        "activations"
      ],
      "metadata": {
        "colab": {
          "base_uri": "https://localhost:8080/"
        },
        "id": "AYjZSxf5F0xF",
        "outputId": "24b72ca2-0fa3-4d2b-a714-b5b509b328a3"
      },
      "execution_count": 17,
      "outputs": [
        {
          "output_type": "execute_result",
          "data": {
            "text/plain": [
              "tensor([[0.7162, 0.1766, 0.1071],\n",
              "        [0.1394, 0.1702, 0.6904],\n",
              "        [0.0229, 0.5613, 0.4158],\n",
              "        [0.1940, 0.7866, 0.0194]])"
            ]
          },
          "metadata": {},
          "execution_count": 17
        }
      ]
    },
    {
      "cell_type": "code",
      "source": [
        "def manual_cross_entropy(net_inputs, y):\n",
        "    activations = torch.softmax(net_inputs, dim=1)\n",
        "    y_onehot = F.one_hot(y)\n",
        "\n",
        "    train_losses = - torch.sum(torch.log(activations) * (y_onehot), dim=1)\n",
        "    avg_loss = torch.mean(train_losses)\n",
        "    return avg_loss"
      ],
      "metadata": {
        "id": "phRiFgqNEFfZ"
      },
      "execution_count": 18,
      "outputs": []
    },
    {
      "cell_type": "code",
      "source": [
        "manual_cross_entropy(net_inputs, y)"
      ],
      "metadata": {
        "colab": {
          "base_uri": "https://localhost:8080/"
        },
        "id": "5jBQ6BXqEFWg",
        "outputId": "7f554b0c-5ba5-4d1a-91f3-59bd97e043ee"
      },
      "execution_count": 19,
      "outputs": [
        {
          "output_type": "execute_result",
          "data": {
            "text/plain": [
              "tensor(0.4555)"
            ]
          },
          "metadata": {},
          "execution_count": 19
        }
      ]
    },
    {
      "cell_type": "code",
      "source": [
        "F.cross_entropy(net_inputs, y)"
      ],
      "metadata": {
        "colab": {
          "base_uri": "https://localhost:8080/"
        },
        "id": "xzSS8jVkEFHx",
        "outputId": "deb95a66-8873-4ebd-eb4f-d6bee84934d9"
      },
      "execution_count": 23,
      "outputs": [
        {
          "output_type": "execute_result",
          "data": {
            "text/plain": [
              "tensor(0.4555)"
            ]
          },
          "metadata": {},
          "execution_count": 23
        }
      ]
    },
    {
      "cell_type": "markdown",
      "source": [
        "> We do not need the one-hot encoding step because PyTorch takes care of this for us internally!\n",
        "\n",
        "> The cross entropy function itself takes care of the one-hot encoding and the softmax activations."
      ],
      "metadata": {
        "id": "2nRkPL27Rt5I"
      }
    },
    {
      "cell_type": "code",
      "source": [
        "y_onehot.to(torch.float32)\n",
        "y_onehot"
      ],
      "metadata": {
        "colab": {
          "base_uri": "https://localhost:8080/"
        },
        "id": "_2RUFDjsSICT",
        "outputId": "597fc63d-f7e0-4a5a-c869-c2643aa90e05"
      },
      "execution_count": 33,
      "outputs": [
        {
          "output_type": "execute_result",
          "data": {
            "text/plain": [
              "tensor([[1, 0, 0],\n",
              "        [0, 0, 1],\n",
              "        [0, 0, 1],\n",
              "        [0, 1, 0]])"
            ]
          },
          "metadata": {},
          "execution_count": 33
        }
      ]
    },
    {
      "cell_type": "code",
      "source": [
        "# the error\n",
        "# F.cross_entropy(net_inputs, y_onehot)"
      ],
      "metadata": {
        "id": "bzUa6xEoReIL"
      },
      "execution_count": 35,
      "outputs": []
    },
    {
      "cell_type": "markdown",
      "source": [
        "## Multilayer Neural Nets"
      ],
      "metadata": {
        "id": "m9UCZ10OBvLK"
      }
    },
    {
      "cell_type": "code",
      "execution_count": null,
      "metadata": {
        "colab": {
          "base_uri": "https://localhost:8080/",
          "height": 110
        },
        "id": "z7KMPjkyAg0f",
        "outputId": "45189859-37de-4b6d-af19-094afb515e62"
      },
      "outputs": [
        {
          "output_type": "execute_result",
          "data": {
            "text/plain": [
              "'\\nSoftmax regression handles multiple classes, but limitation - linear boundaries.\\n-> Add hidden layers --> Multilayer Perceptron\\n\\nMultilayer Perceptron  \\n- can generate complex boundaries\\n- limitation - needs more data and tuning to perform well\\n\\nBEST PRACTICE: Logistic Regression / Softmax Regression is a great baseline to start with. \\nBaseline - use a simpler model to get a predictive performance \\n    and then with a more sophisticated model try to improve the performance.\\n\\nMultilayer Perceptron - fully-connected feedforward NN.\\n'"
            ],
            "application/vnd.google.colaboratory.intrinsic+json": {
              "type": "string"
            }
          },
          "metadata": {},
          "execution_count": 1
        }
      ],
      "source": [
        "'''\n",
        "Softmax regression handles multiple classes, but limitation - linear boundaries.\n",
        "-> Add hidden layers --> Multilayer Perceptron\n",
        "\n",
        "Multilayer Perceptron  \n",
        "- can generate complex boundaries\n",
        "- limitation - needs more data and tuning to perform well\n",
        "\n",
        "BEST PRACTICE: Logistic Regression / Softmax Regression is a great baseline to start with. \n",
        "Baseline - use a simpler model to get a predictive performance \n",
        "    and then with a more sophisticated model try to improve the performance.\n",
        "\n",
        "Multilayer Perceptron - fully-connected feedforward NN.\n",
        "'''"
      ]
    },
    {
      "cell_type": "markdown",
      "source": [
        "### Basic Architecture Design Considerations\n",
        "\n",
        "\n",
        "1) Need non-linear actication function? - Yes, otherwise MLP - linear classifier (can not create non-linear decision boundaries anymore). Combination of linear functions - still a linear function.  \n",
        "\n",
        "Without nonlinear activation functions, the model is a generalized linear model that can’t learn nonlinear decision boundaries.  \n",
        "\n",
        "2) Deep vs Wide   \n",
        "width refers to the number of hidden units in the hidden layers. And depth refers to the number of layers.  \n",
        "\n",
        "Wide and shallow **vs** Narrow and deep  \n",
        "\n",
        "Wide and shallow:\n",
        "- in theory, a sufficiently wide MLP with 1 hidden layer can approximate an arbitrary function (given enough training data)  \n",
        "- needs lots of hidden units  \n",
        "- prone to memorization/overfitting (vs learning)  \n",
        "\n",
        "\n",
        "Narrow and deep:\n",
        "- needs fewer units (nods) in total to have the same expressivity as wide & shallow\n",
        "- generalizes better (abstract features, see CNN)  \n",
        "- vanishing/exploding gradient problems \n",
        "- harder to train\n",
        "\n",
        "3) Initialize the weights\n",
        "\n",
        "init to zeros()? --> all the columns in the weight matrix will be the same --> all hidden nodes will have and keep the same value --> Same as a model with a hidden node (multiplied by a scalar)  \n",
        "\n",
        "> init the weights to small random numbers --> break the symmetry --> all hidden units have different values \n",
        "\n",
        "Which weight initialization function should be used depends on the activation function. For example, a common choice for ReLU activations is kaiming initialization."
      ],
      "metadata": {
        "id": "FpitRYZCDX05"
      }
    },
    {
      "cell_type": "markdown",
      "source": [
        "## Training a MLP (XOR)"
      ],
      "metadata": {
        "id": "ino0s9K5IE9C"
      }
    },
    {
      "cell_type": "code",
      "source": [
        "## Loading the dataset\n",
        "df = pd.read_csv(\"xor.csv\")\n",
        "df"
      ],
      "metadata": {
        "colab": {
          "base_uri": "https://localhost:8080/",
          "height": 423
        },
        "id": "7cjDJUwLCWfI",
        "outputId": "1a8caabe-284a-4eee-acba-222d69aa0db8"
      },
      "execution_count": null,
      "outputs": [
        {
          "output_type": "execute_result",
          "data": {
            "text/plain": [
              "           x1        x2  class label\n",
              "0    0.781306  1.062984            0\n",
              "1   -1.060524 -1.095550            0\n",
              "2    0.632125  0.674028            0\n",
              "3   -1.424712  0.535203            1\n",
              "4    1.383161  1.368510            0\n",
              "..        ...       ...          ...\n",
              "745  0.792484  0.839275            0\n",
              "746  0.582466 -0.749250            1\n",
              "747 -1.593475  0.671721            1\n",
              "748 -0.812671 -0.268542            0\n",
              "749 -1.286524  0.655459            1\n",
              "\n",
              "[750 rows x 3 columns]"
            ],
            "text/html": [
              "\n",
              "  <div id=\"df-794d2b24-da91-404a-a094-c04a4a8f7a54\">\n",
              "    <div class=\"colab-df-container\">\n",
              "      <div>\n",
              "<style scoped>\n",
              "    .dataframe tbody tr th:only-of-type {\n",
              "        vertical-align: middle;\n",
              "    }\n",
              "\n",
              "    .dataframe tbody tr th {\n",
              "        vertical-align: top;\n",
              "    }\n",
              "\n",
              "    .dataframe thead th {\n",
              "        text-align: right;\n",
              "    }\n",
              "</style>\n",
              "<table border=\"1\" class=\"dataframe\">\n",
              "  <thead>\n",
              "    <tr style=\"text-align: right;\">\n",
              "      <th></th>\n",
              "      <th>x1</th>\n",
              "      <th>x2</th>\n",
              "      <th>class label</th>\n",
              "    </tr>\n",
              "  </thead>\n",
              "  <tbody>\n",
              "    <tr>\n",
              "      <th>0</th>\n",
              "      <td>0.781306</td>\n",
              "      <td>1.062984</td>\n",
              "      <td>0</td>\n",
              "    </tr>\n",
              "    <tr>\n",
              "      <th>1</th>\n",
              "      <td>-1.060524</td>\n",
              "      <td>-1.095550</td>\n",
              "      <td>0</td>\n",
              "    </tr>\n",
              "    <tr>\n",
              "      <th>2</th>\n",
              "      <td>0.632125</td>\n",
              "      <td>0.674028</td>\n",
              "      <td>0</td>\n",
              "    </tr>\n",
              "    <tr>\n",
              "      <th>3</th>\n",
              "      <td>-1.424712</td>\n",
              "      <td>0.535203</td>\n",
              "      <td>1</td>\n",
              "    </tr>\n",
              "    <tr>\n",
              "      <th>4</th>\n",
              "      <td>1.383161</td>\n",
              "      <td>1.368510</td>\n",
              "      <td>0</td>\n",
              "    </tr>\n",
              "    <tr>\n",
              "      <th>...</th>\n",
              "      <td>...</td>\n",
              "      <td>...</td>\n",
              "      <td>...</td>\n",
              "    </tr>\n",
              "    <tr>\n",
              "      <th>745</th>\n",
              "      <td>0.792484</td>\n",
              "      <td>0.839275</td>\n",
              "      <td>0</td>\n",
              "    </tr>\n",
              "    <tr>\n",
              "      <th>746</th>\n",
              "      <td>0.582466</td>\n",
              "      <td>-0.749250</td>\n",
              "      <td>1</td>\n",
              "    </tr>\n",
              "    <tr>\n",
              "      <th>747</th>\n",
              "      <td>-1.593475</td>\n",
              "      <td>0.671721</td>\n",
              "      <td>1</td>\n",
              "    </tr>\n",
              "    <tr>\n",
              "      <th>748</th>\n",
              "      <td>-0.812671</td>\n",
              "      <td>-0.268542</td>\n",
              "      <td>0</td>\n",
              "    </tr>\n",
              "    <tr>\n",
              "      <th>749</th>\n",
              "      <td>-1.286524</td>\n",
              "      <td>0.655459</td>\n",
              "      <td>1</td>\n",
              "    </tr>\n",
              "  </tbody>\n",
              "</table>\n",
              "<p>750 rows × 3 columns</p>\n",
              "</div>\n",
              "      <button class=\"colab-df-convert\" onclick=\"convertToInteractive('df-794d2b24-da91-404a-a094-c04a4a8f7a54')\"\n",
              "              title=\"Convert this dataframe to an interactive table.\"\n",
              "              style=\"display:none;\">\n",
              "        \n",
              "  <svg xmlns=\"http://www.w3.org/2000/svg\" height=\"24px\"viewBox=\"0 0 24 24\"\n",
              "       width=\"24px\">\n",
              "    <path d=\"M0 0h24v24H0V0z\" fill=\"none\"/>\n",
              "    <path d=\"M18.56 5.44l.94 2.06.94-2.06 2.06-.94-2.06-.94-.94-2.06-.94 2.06-2.06.94zm-11 1L8.5 8.5l.94-2.06 2.06-.94-2.06-.94L8.5 2.5l-.94 2.06-2.06.94zm10 10l.94 2.06.94-2.06 2.06-.94-2.06-.94-.94-2.06-.94 2.06-2.06.94z\"/><path d=\"M17.41 7.96l-1.37-1.37c-.4-.4-.92-.59-1.43-.59-.52 0-1.04.2-1.43.59L10.3 9.45l-7.72 7.72c-.78.78-.78 2.05 0 2.83L4 21.41c.39.39.9.59 1.41.59.51 0 1.02-.2 1.41-.59l7.78-7.78 2.81-2.81c.8-.78.8-2.07 0-2.86zM5.41 20L4 18.59l7.72-7.72 1.47 1.35L5.41 20z\"/>\n",
              "  </svg>\n",
              "      </button>\n",
              "      \n",
              "  <style>\n",
              "    .colab-df-container {\n",
              "      display:flex;\n",
              "      flex-wrap:wrap;\n",
              "      gap: 12px;\n",
              "    }\n",
              "\n",
              "    .colab-df-convert {\n",
              "      background-color: #E8F0FE;\n",
              "      border: none;\n",
              "      border-radius: 50%;\n",
              "      cursor: pointer;\n",
              "      display: none;\n",
              "      fill: #1967D2;\n",
              "      height: 32px;\n",
              "      padding: 0 0 0 0;\n",
              "      width: 32px;\n",
              "    }\n",
              "\n",
              "    .colab-df-convert:hover {\n",
              "      background-color: #E2EBFA;\n",
              "      box-shadow: 0px 1px 2px rgba(60, 64, 67, 0.3), 0px 1px 3px 1px rgba(60, 64, 67, 0.15);\n",
              "      fill: #174EA6;\n",
              "    }\n",
              "\n",
              "    [theme=dark] .colab-df-convert {\n",
              "      background-color: #3B4455;\n",
              "      fill: #D2E3FC;\n",
              "    }\n",
              "\n",
              "    [theme=dark] .colab-df-convert:hover {\n",
              "      background-color: #434B5C;\n",
              "      box-shadow: 0px 1px 3px 1px rgba(0, 0, 0, 0.15);\n",
              "      filter: drop-shadow(0px 1px 2px rgba(0, 0, 0, 0.3));\n",
              "      fill: #FFFFFF;\n",
              "    }\n",
              "  </style>\n",
              "\n",
              "      <script>\n",
              "        const buttonEl =\n",
              "          document.querySelector('#df-794d2b24-da91-404a-a094-c04a4a8f7a54 button.colab-df-convert');\n",
              "        buttonEl.style.display =\n",
              "          google.colab.kernel.accessAllowed ? 'block' : 'none';\n",
              "\n",
              "        async function convertToInteractive(key) {\n",
              "          const element = document.querySelector('#df-794d2b24-da91-404a-a094-c04a4a8f7a54');\n",
              "          const dataTable =\n",
              "            await google.colab.kernel.invokeFunction('convertToInteractive',\n",
              "                                                     [key], {});\n",
              "          if (!dataTable) return;\n",
              "\n",
              "          const docLinkHtml = 'Like what you see? Visit the ' +\n",
              "            '<a target=\"_blank\" href=https://colab.research.google.com/notebooks/data_table.ipynb>data table notebook</a>'\n",
              "            + ' to learn more about interactive tables.';\n",
              "          element.innerHTML = '';\n",
              "          dataTable['output_type'] = 'display_data';\n",
              "          await google.colab.output.renderOutput(dataTable, element);\n",
              "          const docLink = document.createElement('div');\n",
              "          docLink.innerHTML = docLinkHtml;\n",
              "          element.appendChild(docLink);\n",
              "        }\n",
              "      </script>\n",
              "    </div>\n",
              "  </div>\n",
              "  "
            ]
          },
          "metadata": {},
          "execution_count": 2
        }
      ]
    },
    {
      "cell_type": "code",
      "source": [
        "X = df[[\"x1\", \"x2\"]].values\n",
        "y = df[\"class label\"].values"
      ],
      "metadata": {
        "id": "PupS-xrwCWbH"
      },
      "execution_count": null,
      "outputs": []
    },
    {
      "cell_type": "code",
      "source": [
        "from sklearn.model_selection import train_test_split\n",
        "\n",
        "X_train, X_test, y_train, y_test = train_test_split(\n",
        "        X, y, test_size=0.15, random_state=1, stratify=y)\n",
        "\n",
        "X_train, X_val, y_train, y_val = train_test_split(\n",
        "        X_train, y_train, test_size=0.1, random_state=1, stratify=y_train)"
      ],
      "metadata": {
        "id": "F7kwoPy_CVwj"
      },
      "execution_count": null,
      "outputs": []
    },
    {
      "cell_type": "code",
      "source": [
        "print(\"Training size:\", X_train.shape)\n",
        "print(\"Validation size :\", X_val.shape)\n",
        "print(\"Test size: \", X_test.shape)"
      ],
      "metadata": {
        "colab": {
          "base_uri": "https://localhost:8080/"
        },
        "id": "Yktk3CW1CVue",
        "outputId": "2278c031-7145-4aa0-ef26-0c2908c9d1bf"
      },
      "execution_count": null,
      "outputs": [
        {
          "output_type": "stream",
          "name": "stdout",
          "text": [
            "Training size: (573, 2)\n",
            "Validation size : (64, 2)\n",
            "Test size:  (113, 2)\n"
          ]
        }
      ]
    },
    {
      "cell_type": "code",
      "source": [
        "import numpy as np\n",
        "\n",
        "print(\"Training labels:\", np.bincount(y_train))\n",
        "print(\"Validation labels:\", np.bincount(y_val))\n",
        "print(\"Test labels:\", np.bincount(y_test))"
      ],
      "metadata": {
        "colab": {
          "base_uri": "https://localhost:8080/"
        },
        "id": "YXLJxj3FCVrn",
        "outputId": "0d18abe4-1072-4f2a-a347-d99b645ee0e7"
      },
      "execution_count": null,
      "outputs": [
        {
          "output_type": "stream",
          "name": "stdout",
          "text": [
            "Training labels: [287 286]\n",
            "Validation labels: [32 32]\n",
            "Test labels: [57 56]\n"
          ]
        }
      ]
    },
    {
      "cell_type": "code",
      "source": [
        "%matplotlib inline\n",
        "import matplotlib.pyplot as plt"
      ],
      "metadata": {
        "id": "QsF84yxxCVot"
      },
      "execution_count": null,
      "outputs": []
    },
    {
      "cell_type": "code",
      "source": [
        "plt.plot(\n",
        "    X_train[y_train == 0, 0],\n",
        "    X_train[y_train == 0, 1],\n",
        "    marker=\"D\",\n",
        "    markersize=5,\n",
        "    linestyle=\"\",\n",
        "    label=\"Class 0\",\n",
        ")\n",
        "\n",
        "plt.plot(\n",
        "    X_train[y_train == 1, 0],\n",
        "    X_train[y_train == 1, 1],\n",
        "    marker=\"^\",\n",
        "    markersize=5,\n",
        "    linestyle=\"\",\n",
        "    label=\"Class 1\",\n",
        ")\n",
        "\n",
        "plt.legend(loc=2)\n",
        "\n",
        "plt.xlim([-5, 5])\n",
        "plt.ylim([-5, 5])\n",
        "\n",
        "plt.xlabel(\"Feature $x_1$\", fontsize=12)\n",
        "plt.ylabel(\"Feature $x_2$\", fontsize=12)\n",
        "\n",
        "plt.grid()\n",
        "plt.show()"
      ],
      "metadata": {
        "colab": {
          "base_uri": "https://localhost:8080/",
          "height": 455
        },
        "id": "-atXWmeoCVhj",
        "outputId": "6f2bcbc0-3e9a-490f-f4f5-ccf50ea0adaa"
      },
      "execution_count": null,
      "outputs": [
        {
          "output_type": "display_data",
          "data": {
            "text/plain": [
              "<Figure size 640x480 with 1 Axes>"
            ],
            "image/png": "[encoded data removed]"
          },
          "metadata": {}
        }
      ]
    },
    {
      "cell_type": "markdown",
      "source": [
        "### Implementing the model"
      ],
      "metadata": {
        "id": "FDygF-aWkLAQ"
      }
    },
    {
      "cell_type": "code",
      "source": [
        "class PyTorchMLP(torch.nn.Module):\n",
        "    def __init__(self, num_features, num_classes):\n",
        "        super().__init__()\n",
        "\n",
        "        self.all_layers = torch.nn.Sequential(\n",
        "                \n",
        "            # 1st hidden layer\n",
        "            torch.nn.Linear(num_features, 25),\n",
        "            torch.nn.ReLU(),\n",
        "\n",
        "            # 2nd hidden layer\n",
        "            torch.nn.Linear(25, 15),\n",
        "            torch.nn.ReLU(),\n",
        "\n",
        "            # output layer\n",
        "            torch.nn.Linear(15, num_classes),\n",
        "        )\n",
        "\n",
        "    def forward(self, x):\n",
        "        logits = self.all_layers(x)\n",
        "        return logits"
      ],
      "metadata": {
        "id": "v5QoUX_Zj8Bt"
      },
      "execution_count": null,
      "outputs": []
    },
    {
      "cell_type": "markdown",
      "source": [
        "### Define DataLoaders"
      ],
      "metadata": {
        "id": "H9mYsJ-WktRI"
      }
    },
    {
      "cell_type": "code",
      "source": [
        "from torch.utils.data import Dataset, DataLoader\n",
        "\n",
        "\n",
        "class MyDataset(Dataset):\n",
        "    def __init__(self, X, y):\n",
        "\n",
        "        self.features = torch.tensor(X, dtype=torch.float32)\n",
        "        self.labels = torch.tensor(y, dtype=torch.int64)\n",
        "\n",
        "    def __getitem__(self, index):\n",
        "        x = self.features[index]\n",
        "        y = self.labels[index]        \n",
        "        return x, y\n",
        "\n",
        "    def __len__(self):\n",
        "        return self.labels.shape[0]"
      ],
      "metadata": {
        "id": "bWO_Dtnjkx3o"
      },
      "execution_count": null,
      "outputs": []
    },
    {
      "cell_type": "code",
      "source": [
        "train_ds = MyDataset(X_train, y_train)\n",
        "val_ds = MyDataset(X_val, y_val)\n",
        "test_ds = MyDataset(X_test, y_test)\n",
        "\n",
        "train_loader = DataLoader(\n",
        "    dataset=train_ds,\n",
        "    batch_size=32,\n",
        "    shuffle=True,\n",
        ")\n",
        "\n",
        "val_loader = DataLoader(\n",
        "    dataset=val_ds,\n",
        "    batch_size=32,\n",
        "    shuffle=False,\n",
        ")\n",
        "\n",
        "test_loader = DataLoader(\n",
        "    dataset=test_ds,\n",
        "    batch_size=32,\n",
        "    shuffle=False,\n",
        ")"
      ],
      "metadata": {
        "id": "yLZM3fTZj77r"
      },
      "execution_count": null,
      "outputs": []
    },
    {
      "cell_type": "markdown",
      "source": [
        "### Training Loop"
      ],
      "metadata": {
        "id": "KJUhKfkPk31V"
      }
    },
    {
      "cell_type": "code",
      "source": [
        "def compute_accuracy(model, dataloader):\n",
        "\n",
        "    model = model.eval()\n",
        "    \n",
        "    correct = 0.0\n",
        "    total_examples = 0\n",
        "    \n",
        "    for idx, (features, labels) in enumerate(dataloader):\n",
        "        \n",
        "        with torch.inference_mode(): # basically the same as torch.no_grad\n",
        "            logits = model(features)\n",
        "        \n",
        "        predictions = torch.argmax(logits, dim=1)\n",
        "\n",
        "        compare = labels == predictions\n",
        "        correct += torch.sum(compare)\n",
        "        total_examples += len(compare)\n",
        "\n",
        "    return correct / total_examples"
      ],
      "metadata": {
        "id": "VVzhWUoxCVfH"
      },
      "execution_count": null,
      "outputs": []
    },
    {
      "cell_type": "code",
      "source": [
        "import torch.nn.functional as F\n",
        "\n",
        "\n",
        "torch.manual_seed(1)\n",
        "model = PyTorchMLP(num_features=2, num_classes=2)\n",
        "optimizer = torch.optim.SGD(model.parameters(), lr=0.05) # Stochastic gradient descent\n",
        "\n",
        "num_epochs = 10\n",
        "\n",
        "for epoch in range(num_epochs):\n",
        "    \n",
        "    model = model.train()\n",
        "    for batch_idx, (features, labels) in enumerate(train_loader):\n",
        "\n",
        "        logits = model(features)\n",
        "        \n",
        "        loss = F.cross_entropy(logits, labels) # Loss function\n",
        "        \n",
        "        optimizer.zero_grad()\n",
        "        loss.backward()\n",
        "        optimizer.step()\n",
        "    \n",
        "        ### LOGGING\n",
        "        print(f\"Epoch: {epoch+1:03d}/{num_epochs:03d}\"\n",
        "              f\" | Batch {batch_idx:03d}/{len(train_loader):03d}\"\n",
        "              f\" | Train/Val Loss: {loss:.2f}\")\n",
        "    \n",
        "    train_acc = compute_accuracy(model, train_loader)\n",
        "    val_acc = compute_accuracy(model, val_loader)\n",
        "    print(f\"Train Acc {train_acc*100:.2f}% | Val Acc {val_acc*100:.2f}%\")"
      ],
      "metadata": {
        "colab": {
          "base_uri": "https://localhost:8080/"
        },
        "id": "RXszvkuCCVcG",
        "outputId": "04c93d76-3faf-440f-93a9-b54c57422316"
      },
      "execution_count": null,
      "outputs": [
        {
          "output_type": "stream",
          "name": "stdout",
          "text": [
            "Epoch: 001/010 | Batch 000/018 | Train/Val Loss: 0.68\n",
            "Epoch: 001/010 | Batch 001/018 | Train/Val Loss: 0.69\n",
            "Epoch: 001/010 | Batch 002/018 | Train/Val Loss: 0.68\n",
            "Epoch: 001/010 | Batch 003/018 | Train/Val Loss: 0.67\n",
            "Epoch: 001/010 | Batch 004/018 | Train/Val Loss: 0.69\n",
            "Epoch: 001/010 | Batch 005/018 | Train/Val Loss: 0.68\n",
            "Epoch: 001/010 | Batch 006/018 | Train/Val Loss: 0.66\n",
            "Epoch: 001/010 | Batch 007/018 | Train/Val Loss: 0.68\n",
            "Epoch: 001/010 | Batch 008/018 | Train/Val Loss: 0.67\n",
            "Epoch: 001/010 | Batch 009/018 | Train/Val Loss: 0.68\n",
            "Epoch: 001/010 | Batch 010/018 | Train/Val Loss: 0.66\n",
            "Epoch: 001/010 | Batch 011/018 | Train/Val Loss: 0.65\n",
            "Epoch: 001/010 | Batch 012/018 | Train/Val Loss: 0.67\n",
            "Epoch: 001/010 | Batch 013/018 | Train/Val Loss: 0.67\n",
            "Epoch: 001/010 | Batch 014/018 | Train/Val Loss: 0.65\n",
            "Epoch: 001/010 | Batch 015/018 | Train/Val Loss: 0.67\n",
            "Epoch: 001/010 | Batch 016/018 | Train/Val Loss: 0.67\n",
            "Epoch: 001/010 | Batch 017/018 | Train/Val Loss: 0.65\n",
            "Train Acc 68.41% | Val Acc 65.62%\n",
            "Epoch: 002/010 | Batch 000/018 | Train/Val Loss: 0.66\n",
            "Epoch: 002/010 | Batch 001/018 | Train/Val Loss: 0.66\n",
            "Epoch: 002/010 | Batch 002/018 | Train/Val Loss: 0.66\n",
            "Epoch: 002/010 | Batch 003/018 | Train/Val Loss: 0.65\n",
            "Epoch: 002/010 | Batch 004/018 | Train/Val Loss: 0.66\n",
            "Epoch: 002/010 | Batch 005/018 | Train/Val Loss: 0.65\n",
            "Epoch: 002/010 | Batch 006/018 | Train/Val Loss: 0.63\n",
            "Epoch: 002/010 | Batch 007/018 | Train/Val Loss: 0.65\n",
            "Epoch: 002/010 | Batch 008/018 | Train/Val Loss: 0.66\n",
            "Epoch: 002/010 | Batch 009/018 | Train/Val Loss: 0.66\n",
            "Epoch: 002/010 | Batch 010/018 | Train/Val Loss: 0.66\n",
            "Epoch: 002/010 | Batch 011/018 | Train/Val Loss: 0.63\n",
            "Epoch: 002/010 | Batch 012/018 | Train/Val Loss: 0.64\n",
            "Epoch: 002/010 | Batch 013/018 | Train/Val Loss: 0.64\n",
            "Epoch: 002/010 | Batch 014/018 | Train/Val Loss: 0.65\n",
            "Epoch: 002/010 | Batch 015/018 | Train/Val Loss: 0.63\n",
            "Epoch: 002/010 | Batch 016/018 | Train/Val Loss: 0.63\n",
            "Epoch: 002/010 | Batch 017/018 | Train/Val Loss: 0.62\n",
            "Train Acc 81.50% | Val Acc 73.44%\n",
            "Epoch: 003/010 | Batch 000/018 | Train/Val Loss: 0.64\n",
            "Epoch: 003/010 | Batch 001/018 | Train/Val Loss: 0.63\n",
            "Epoch: 003/010 | Batch 002/018 | Train/Val Loss: 0.63\n",
            "Epoch: 003/010 | Batch 003/018 | Train/Val Loss: 0.64\n",
            "Epoch: 003/010 | Batch 004/018 | Train/Val Loss: 0.62\n",
            "Epoch: 003/010 | Batch 005/018 | Train/Val Loss: 0.61\n",
            "Epoch: 003/010 | Batch 006/018 | Train/Val Loss: 0.61\n",
            "Epoch: 003/010 | Batch 007/018 | Train/Val Loss: 0.64\n",
            "Epoch: 003/010 | Batch 008/018 | Train/Val Loss: 0.62\n",
            "Epoch: 003/010 | Batch 009/018 | Train/Val Loss: 0.61\n",
            "Epoch: 003/010 | Batch 010/018 | Train/Val Loss: 0.61\n",
            "Epoch: 003/010 | Batch 011/018 | Train/Val Loss: 0.61\n",
            "Epoch: 003/010 | Batch 012/018 | Train/Val Loss: 0.62\n",
            "Epoch: 003/010 | Batch 013/018 | Train/Val Loss: 0.60\n",
            "Epoch: 003/010 | Batch 014/018 | Train/Val Loss: 0.62\n",
            "Epoch: 003/010 | Batch 015/018 | Train/Val Loss: 0.61\n",
            "Epoch: 003/010 | Batch 016/018 | Train/Val Loss: 0.60\n",
            "Epoch: 003/010 | Batch 017/018 | Train/Val Loss: 0.59\n",
            "Train Acc 89.88% | Val Acc 90.62%\n",
            "Epoch: 004/010 | Batch 000/018 | Train/Val Loss: 0.59\n",
            "Epoch: 004/010 | Batch 001/018 | Train/Val Loss: 0.59\n",
            "Epoch: 004/010 | Batch 002/018 | Train/Val Loss: 0.58\n",
            "Epoch: 004/010 | Batch 003/018 | Train/Val Loss: 0.59\n",
            "Epoch: 004/010 | Batch 004/018 | Train/Val Loss: 0.59\n",
            "Epoch: 004/010 | Batch 005/018 | Train/Val Loss: 0.57\n",
            "Epoch: 004/010 | Batch 006/018 | Train/Val Loss: 0.55\n",
            "Epoch: 004/010 | Batch 007/018 | Train/Val Loss: 0.60\n",
            "Epoch: 004/010 | Batch 008/018 | Train/Val Loss: 0.59\n",
            "Epoch: 004/010 | Batch 009/018 | Train/Val Loss: 0.57\n",
            "Epoch: 004/010 | Batch 010/018 | Train/Val Loss: 0.57\n",
            "Epoch: 004/010 | Batch 011/018 | Train/Val Loss: 0.56\n",
            "Epoch: 004/010 | Batch 012/018 | Train/Val Loss: 0.58\n",
            "Epoch: 004/010 | Batch 013/018 | Train/Val Loss: 0.58\n",
            "Epoch: 004/010 | Batch 014/018 | Train/Val Loss: 0.56\n",
            "Epoch: 004/010 | Batch 015/018 | Train/Val Loss: 0.57\n",
            "Epoch: 004/010 | Batch 016/018 | Train/Val Loss: 0.54\n",
            "Epoch: 004/010 | Batch 017/018 | Train/Val Loss: 0.57\n",
            "Train Acc 93.19% | Val Acc 90.62%\n",
            "Epoch: 005/010 | Batch 000/018 | Train/Val Loss: 0.56\n",
            "Epoch: 005/010 | Batch 001/018 | Train/Val Loss: 0.56\n",
            "Epoch: 005/010 | Batch 002/018 | Train/Val Loss: 0.54\n",
            "Epoch: 005/010 | Batch 003/018 | Train/Val Loss: 0.54\n",
            "Epoch: 005/010 | Batch 004/018 | Train/Val Loss: 0.52\n",
            "Epoch: 005/010 | Batch 005/018 | Train/Val Loss: 0.54\n",
            "Epoch: 005/010 | Batch 006/018 | Train/Val Loss: 0.53\n",
            "Epoch: 005/010 | Batch 007/018 | Train/Val Loss: 0.50\n",
            "Epoch: 005/010 | Batch 008/018 | Train/Val Loss: 0.54\n",
            "Epoch: 005/010 | Batch 009/018 | Train/Val Loss: 0.52\n",
            "Epoch: 005/010 | Batch 010/018 | Train/Val Loss: 0.50\n",
            "Epoch: 005/010 | Batch 011/018 | Train/Val Loss: 0.54\n",
            "Epoch: 005/010 | Batch 012/018 | Train/Val Loss: 0.48\n",
            "Epoch: 005/010 | Batch 013/018 | Train/Val Loss: 0.53\n",
            "Epoch: 005/010 | Batch 014/018 | Train/Val Loss: 0.50\n",
            "Epoch: 005/010 | Batch 015/018 | Train/Val Loss: 0.48\n",
            "Epoch: 005/010 | Batch 016/018 | Train/Val Loss: 0.49\n",
            "Epoch: 005/010 | Batch 017/018 | Train/Val Loss: 0.51\n",
            "Train Acc 95.29% | Val Acc 92.19%\n",
            "Epoch: 006/010 | Batch 000/018 | Train/Val Loss: 0.47\n",
            "Epoch: 006/010 | Batch 001/018 | Train/Val Loss: 0.50\n",
            "Epoch: 006/010 | Batch 002/018 | Train/Val Loss: 0.51\n",
            "Epoch: 006/010 | Batch 003/018 | Train/Val Loss: 0.48\n",
            "Epoch: 006/010 | Batch 004/018 | Train/Val Loss: 0.43\n",
            "Epoch: 006/010 | Batch 005/018 | Train/Val Loss: 0.47\n",
            "Epoch: 006/010 | Batch 006/018 | Train/Val Loss: 0.44\n",
            "Epoch: 006/010 | Batch 007/018 | Train/Val Loss: 0.52\n",
            "Epoch: 006/010 | Batch 008/018 | Train/Val Loss: 0.45\n",
            "Epoch: 006/010 | Batch 009/018 | Train/Val Loss: 0.47\n",
            "Epoch: 006/010 | Batch 010/018 | Train/Val Loss: 0.44\n",
            "Epoch: 006/010 | Batch 011/018 | Train/Val Loss: 0.41\n",
            "Epoch: 006/010 | Batch 012/018 | Train/Val Loss: 0.50\n",
            "Epoch: 006/010 | Batch 013/018 | Train/Val Loss: 0.44\n",
            "Epoch: 006/010 | Batch 014/018 | Train/Val Loss: 0.45\n",
            "Epoch: 006/010 | Batch 015/018 | Train/Val Loss: 0.41\n",
            "Epoch: 006/010 | Batch 016/018 | Train/Val Loss: 0.47\n",
            "Epoch: 006/010 | Batch 017/018 | Train/Val Loss: 0.41\n",
            "Train Acc 94.76% | Val Acc 92.19%\n",
            "Epoch: 007/010 | Batch 000/018 | Train/Val Loss: 0.43\n",
            "Epoch: 007/010 | Batch 001/018 | Train/Val Loss: 0.42\n",
            "Epoch: 007/010 | Batch 002/018 | Train/Val Loss: 0.42\n",
            "Epoch: 007/010 | Batch 003/018 | Train/Val Loss: 0.41\n",
            "Epoch: 007/010 | Batch 004/018 | Train/Val Loss: 0.38\n",
            "Epoch: 007/010 | Batch 005/018 | Train/Val Loss: 0.41\n",
            "Epoch: 007/010 | Batch 006/018 | Train/Val Loss: 0.38\n",
            "Epoch: 007/010 | Batch 007/018 | Train/Val Loss: 0.41\n",
            "Epoch: 007/010 | Batch 008/018 | Train/Val Loss: 0.42\n",
            "Epoch: 007/010 | Batch 009/018 | Train/Val Loss: 0.39\n",
            "Epoch: 007/010 | Batch 010/018 | Train/Val Loss: 0.39\n",
            "Epoch: 007/010 | Batch 011/018 | Train/Val Loss: 0.38\n",
            "Epoch: 007/010 | Batch 012/018 | Train/Val Loss: 0.35\n",
            "Epoch: 007/010 | Batch 013/018 | Train/Val Loss: 0.37\n",
            "Epoch: 007/010 | Batch 014/018 | Train/Val Loss: 0.36\n",
            "Epoch: 007/010 | Batch 015/018 | Train/Val Loss: 0.38\n",
            "Epoch: 007/010 | Batch 016/018 | Train/Val Loss: 0.38\n",
            "Epoch: 007/010 | Batch 017/018 | Train/Val Loss: 0.40\n",
            "Train Acc 96.86% | Val Acc 98.44%\n",
            "Epoch: 008/010 | Batch 000/018 | Train/Val Loss: 0.39\n",
            "Epoch: 008/010 | Batch 001/018 | Train/Val Loss: 0.34\n",
            "Epoch: 008/010 | Batch 002/018 | Train/Val Loss: 0.33\n",
            "Epoch: 008/010 | Batch 003/018 | Train/Val Loss: 0.37\n",
            "Epoch: 008/010 | Batch 004/018 | Train/Val Loss: 0.35\n",
            "Epoch: 008/010 | Batch 005/018 | Train/Val Loss: 0.35\n",
            "Epoch: 008/010 | Batch 006/018 | Train/Val Loss: 0.37\n",
            "Epoch: 008/010 | Batch 007/018 | Train/Val Loss: 0.36\n",
            "Epoch: 008/010 | Batch 008/018 | Train/Val Loss: 0.30\n",
            "Epoch: 008/010 | Batch 009/018 | Train/Val Loss: 0.32\n",
            "Epoch: 008/010 | Batch 010/018 | Train/Val Loss: 0.28\n",
            "Epoch: 008/010 | Batch 011/018 | Train/Val Loss: 0.35\n",
            "Epoch: 008/010 | Batch 012/018 | Train/Val Loss: 0.32\n",
            "Epoch: 008/010 | Batch 013/018 | Train/Val Loss: 0.32\n",
            "Epoch: 008/010 | Batch 014/018 | Train/Val Loss: 0.32\n",
            "Epoch: 008/010 | Batch 015/018 | Train/Val Loss: 0.30\n",
            "Epoch: 008/010 | Batch 016/018 | Train/Val Loss: 0.31\n",
            "Epoch: 008/010 | Batch 017/018 | Train/Val Loss: 0.31\n",
            "Train Acc 97.03% | Val Acc 100.00%\n",
            "Epoch: 009/010 | Batch 000/018 | Train/Val Loss: 0.29\n",
            "Epoch: 009/010 | Batch 001/018 | Train/Val Loss: 0.28\n",
            "Epoch: 009/010 | Batch 002/018 | Train/Val Loss: 0.24\n",
            "Epoch: 009/010 | Batch 003/018 | Train/Val Loss: 0.26\n",
            "Epoch: 009/010 | Batch 004/018 | Train/Val Loss: 0.25\n",
            "Epoch: 009/010 | Batch 005/018 | Train/Val Loss: 0.28\n",
            "Epoch: 009/010 | Batch 006/018 | Train/Val Loss: 0.26\n",
            "Epoch: 009/010 | Batch 007/018 | Train/Val Loss: 0.32\n",
            "Epoch: 009/010 | Batch 008/018 | Train/Val Loss: 0.30\n",
            "Epoch: 009/010 | Batch 009/018 | Train/Val Loss: 0.30\n",
            "Epoch: 009/010 | Batch 010/018 | Train/Val Loss: 0.28\n",
            "Epoch: 009/010 | Batch 011/018 | Train/Val Loss: 0.28\n",
            "Epoch: 009/010 | Batch 012/018 | Train/Val Loss: 0.22\n",
            "Epoch: 009/010 | Batch 013/018 | Train/Val Loss: 0.33\n",
            "Epoch: 009/010 | Batch 014/018 | Train/Val Loss: 0.33\n",
            "Epoch: 009/010 | Batch 015/018 | Train/Val Loss: 0.25\n",
            "Epoch: 009/010 | Batch 016/018 | Train/Val Loss: 0.27\n",
            "Epoch: 009/010 | Batch 017/018 | Train/Val Loss: 0.27\n",
            "Train Acc 98.08% | Val Acc 100.00%\n",
            "Epoch: 010/010 | Batch 000/018 | Train/Val Loss: 0.26\n",
            "Epoch: 010/010 | Batch 001/018 | Train/Val Loss: 0.23\n",
            "Epoch: 010/010 | Batch 002/018 | Train/Val Loss: 0.25\n",
            "Epoch: 010/010 | Batch 003/018 | Train/Val Loss: 0.22\n",
            "Epoch: 010/010 | Batch 004/018 | Train/Val Loss: 0.25\n",
            "Epoch: 010/010 | Batch 005/018 | Train/Val Loss: 0.28\n",
            "Epoch: 010/010 | Batch 006/018 | Train/Val Loss: 0.22\n",
            "Epoch: 010/010 | Batch 007/018 | Train/Val Loss: 0.27\n",
            "Epoch: 010/010 | Batch 008/018 | Train/Val Loss: 0.23\n",
            "Epoch: 010/010 | Batch 009/018 | Train/Val Loss: 0.19\n",
            "Epoch: 010/010 | Batch 010/018 | Train/Val Loss: 0.22\n",
            "Epoch: 010/010 | Batch 011/018 | Train/Val Loss: 0.21\n",
            "Epoch: 010/010 | Batch 012/018 | Train/Val Loss: 0.21\n",
            "Epoch: 010/010 | Batch 013/018 | Train/Val Loss: 0.22\n",
            "Epoch: 010/010 | Batch 014/018 | Train/Val Loss: 0.25\n",
            "Epoch: 010/010 | Batch 015/018 | Train/Val Loss: 0.28\n",
            "Epoch: 010/010 | Batch 016/018 | Train/Val Loss: 0.16\n",
            "Epoch: 010/010 | Batch 017/018 | Train/Val Loss: 0.21\n",
            "Train Acc 98.25% | Val Acc 100.00%\n"
          ]
        }
      ]
    },
    {
      "cell_type": "markdown",
      "source": [
        "### Evaluating Results"
      ],
      "metadata": {
        "id": "9Txlpvj2lAfd"
      }
    },
    {
      "cell_type": "code",
      "source": [
        "train_acc = compute_accuracy(model, train_loader)\n",
        "val_acc = compute_accuracy(model, val_loader)\n",
        "test_acc = compute_accuracy(model, test_loader)\n",
        "\n",
        "print(f\"Train Acc {train_acc*100:.2f}%\")\n",
        "print(f\"Val Acc {val_acc*100:.2f}%\")\n",
        "print(f\"Test Acc {test_acc*100:.2f}%\")"
      ],
      "metadata": {
        "colab": {
          "base_uri": "https://localhost:8080/"
        },
        "id": "JjMV1b0xCVZc",
        "outputId": "cc4818fe-6a73-43d7-ad45-29dc5c8b7e4f"
      },
      "execution_count": null,
      "outputs": [
        {
          "output_type": "stream",
          "name": "stdout",
          "text": [
            "Train Acc 98.25%\n",
            "Val Acc 100.00%\n",
            "Test Acc 99.12%\n"
          ]
        }
      ]
    },
    {
      "cell_type": "markdown",
      "source": [
        "### Visualizing decision boundary in 2D space"
      ],
      "metadata": {
        "id": "PQ2CvxbulEPs"
      }
    },
    {
      "cell_type": "code",
      "source": [
        "from matplotlib.colors import ListedColormap\n",
        "import numpy as np\n",
        "\n",
        "\n",
        "def plot_decision_regions(X, y, classifier, resolution=0.02):\n",
        "\n",
        "    # setup marker generator and color map\n",
        "    markers = ('D', '^', 'x', 's', 'v')\n",
        "    colors = ('C0', 'C1', 'C2', 'C3', 'C4')\n",
        "    cmap = ListedColormap(colors[:len(np.unique(y))])\n",
        "\n",
        "    # plot the decision surface\n",
        "    x1_min, x1_max = X[:, 0].min() - 1, X[:, 0].max() + 1\n",
        "    x2_min, x2_max = X[:, 1].min() - 1, X[:, 1].max() + 1\n",
        "    xx1, xx2 = np.meshgrid(np.arange(x1_min, x1_max, resolution),\n",
        "                           np.arange(x2_min, x2_max, resolution))\n",
        "    tensor = torch.tensor(np.array([xx1.ravel(), xx2.ravel()]).T).float()\n",
        "    logits = classifier.forward(tensor)\n",
        "    Z = np.argmax(logits.detach().numpy(), axis=1)\n",
        "\n",
        "    Z = Z.reshape(xx1.shape)\n",
        "    plt.contourf(xx1, xx2, Z, alpha=0.4, cmap=cmap)\n",
        "    plt.xlim(xx1.min(), xx1.max())\n",
        "    plt.ylim(xx2.min(), xx2.max())\n",
        "\n",
        "    # plot class samples\n",
        "    for idx, cl in enumerate(np.unique(y)):\n",
        "        plt.scatter(x=X[y == cl, 0], y=X[y == cl, 1],\n",
        "                    alpha=0.8, color=cmap(idx),\n",
        "                    #edgecolor='black',\n",
        "                    marker=markers[idx], \n",
        "                    label=cl)"
      ],
      "metadata": {
        "id": "TKDM9XwXlCm5"
      },
      "execution_count": null,
      "outputs": []
    },
    {
      "cell_type": "code",
      "source": [
        "plot_decision_regions(X_train, y_train, classifier=model)"
      ],
      "metadata": {
        "colab": {
          "base_uri": "https://localhost:8080/",
          "height": 430
        },
        "id": "3bAwzzR6lI4u",
        "outputId": "84857dde-a5d6-4c97-df36-2b5413b5e741"
      },
      "execution_count": null,
      "outputs": [
        {
          "output_type": "display_data",
          "data": {
            "text/plain": [
              "<Figure size 640x480 with 1 Axes>"
            ],
            "image/png": "[encoded data removed]"
          },
          "metadata": {}
        }
      ]
    },
    {
      "cell_type": "markdown",
      "source": [
        "## Training a MLP (MNIST)"
      ],
      "metadata": {
        "id": "2hLKcv7tn_qn"
      }
    },
    {
      "cell_type": "code",
      "source": [
        "# loading the dataset\n",
        "\n",
        "from torch.utils.data import DataLoader\n",
        "from torchvision import datasets, transforms\n",
        "\n",
        "train_dataset = datasets.MNIST(\n",
        "    root=\"./mnist\", train=True, transform=transforms.ToTensor(), download=True\n",
        ")\n",
        "\n",
        "test_dataset = datasets.MNIST(\n",
        "    root=\"./mnist\", train=False, transform=transforms.ToTensor()\n",
        ")"
      ],
      "metadata": {
        "colab": {
          "base_uri": "https://localhost:8080/"
        },
        "id": "gaKKLccqlL9K",
        "outputId": "7cf30b19-5d2d-4fb6-e426-776bc774bd65"
      },
      "execution_count": null,
      "outputs": [
        {
          "output_type": "stream",
          "name": "stdout",
          "text": [
            "Downloading http://yann.lecun.com/exdb/mnist/train-images-idx3-ubyte.gz\n",
            "Downloading http://yann.lecun.com/exdb/mnist/train-images-idx3-ubyte.gz to ./mnist/MNIST/raw/train-images-idx3-ubyte.gz\n"
          ]
        },
        {
          "output_type": "stream",
          "name": "stderr",
          "text": [
            "100%|██████████| 9912422/9912422 [00:00<00:00, 73638636.19it/s]\n"
          ]
        },
        {
          "output_type": "stream",
          "name": "stdout",
          "text": [
            "Extracting ./mnist/MNIST/raw/train-images-idx3-ubyte.gz to ./mnist/MNIST/raw\n",
            "\n",
            "Downloading http://yann.lecun.com/exdb/mnist/train-labels-idx1-ubyte.gz\n",
            "Downloading http://yann.lecun.com/exdb/mnist/train-labels-idx1-ubyte.gz to ./mnist/MNIST/raw/train-labels-idx1-ubyte.gz\n"
          ]
        },
        {
          "output_type": "stream",
          "name": "stderr",
          "text": [
            "100%|██████████| 28881/28881 [00:00<00:00, 54516513.87it/s]\n"
          ]
        },
        {
          "output_type": "stream",
          "name": "stdout",
          "text": [
            "Extracting ./mnist/MNIST/raw/train-labels-idx1-ubyte.gz to ./mnist/MNIST/raw\n",
            "\n",
            "Downloading http://yann.lecun.com/exdb/mnist/t10k-images-idx3-ubyte.gz\n",
            "Downloading http://yann.lecun.com/exdb/mnist/t10k-images-idx3-ubyte.gz to ./mnist/MNIST/raw/t10k-images-idx3-ubyte.gz\n"
          ]
        },
        {
          "output_type": "stream",
          "name": "stderr",
          "text": [
            "100%|██████████| 1648877/1648877 [00:00<00:00, 21440103.78it/s]\n"
          ]
        },
        {
          "output_type": "stream",
          "name": "stdout",
          "text": [
            "Extracting ./mnist/MNIST/raw/t10k-images-idx3-ubyte.gz to ./mnist/MNIST/raw\n",
            "\n",
            "Downloading http://yann.lecun.com/exdb/mnist/t10k-labels-idx1-ubyte.gz\n",
            "Downloading http://yann.lecun.com/exdb/mnist/t10k-labels-idx1-ubyte.gz to ./mnist/MNIST/raw/t10k-labels-idx1-ubyte.gz\n"
          ]
        },
        {
          "output_type": "stream",
          "name": "stderr",
          "text": [
            "100%|██████████| 4542/4542 [00:00<00:00, 12274825.24it/s]\n"
          ]
        },
        {
          "output_type": "stream",
          "name": "stdout",
          "text": [
            "Extracting ./mnist/MNIST/raw/t10k-labels-idx1-ubyte.gz to ./mnist/MNIST/raw\n",
            "\n"
          ]
        }
      ]
    },
    {
      "cell_type": "code",
      "source": [
        "len(train_dataset)"
      ],
      "metadata": {
        "colab": {
          "base_uri": "https://localhost:8080/"
        },
        "id": "S3IcdWCOlL2S",
        "outputId": "ee3fb255-816d-4ed6-e084-63c537cd732f"
      },
      "execution_count": null,
      "outputs": [
        {
          "output_type": "execute_result",
          "data": {
            "text/plain": [
              "60000"
            ]
          },
          "metadata": {},
          "execution_count": 20
        }
      ]
    },
    {
      "cell_type": "code",
      "source": [
        "len(test_dataset)\n"
      ],
      "metadata": {
        "colab": {
          "base_uri": "https://localhost:8080/"
        },
        "id": "OLV6__jglLle",
        "outputId": "3a524502-3fbb-454f-8f92-90cd30261144"
      },
      "execution_count": null,
      "outputs": [
        {
          "output_type": "execute_result",
          "data": {
            "text/plain": [
              "10000"
            ]
          },
          "metadata": {},
          "execution_count": 21
        }
      ]
    },
    {
      "cell_type": "code",
      "source": [
        "# create a validation split\n",
        "from torch.utils.data.dataset import random_split\n",
        "\n",
        "torch.manual_seed(1)\n",
        "train_dataset, val_dataset = random_split(train_dataset, lengths=[55000, 5000])"
      ],
      "metadata": {
        "id": "tJiytt7dlLhl"
      },
      "execution_count": null,
      "outputs": []
    },
    {
      "cell_type": "code",
      "source": [
        "train_loader = DataLoader(\n",
        "    dataset=train_dataset,\n",
        "    batch_size=64,\n",
        "    shuffle=True,\n",
        ")\n",
        "\n",
        "val_loader = DataLoader(\n",
        "    dataset=val_dataset,\n",
        "    batch_size=64,\n",
        "    shuffle=False,\n",
        ")\n",
        "\n",
        "test_loader = DataLoader(\n",
        "    dataset=test_dataset,\n",
        "    batch_size=64,\n",
        "    shuffle=False,\n",
        ")"
      ],
      "metadata": {
        "id": "u2l9Ek7zlLfI"
      },
      "execution_count": null,
      "outputs": []
    },
    {
      "cell_type": "code",
      "source": [
        "# Check a label distribution\n",
        "from collections import Counter\n",
        "\n",
        "train_counter = Counter()\n",
        "for images, labels in train_loader:\n",
        "    train_counter.update(labels.tolist())\n",
        "    \n",
        "print(\"\\nTraining label distribution:\")\n",
        "print(sorted(train_counter.items()))\n",
        "\n",
        "    \n",
        "val_counter = Counter()\n",
        "for images, labels in val_loader:\n",
        "    val_counter.update(labels.tolist())\n",
        "    \n",
        "print(\"\\nValidation label distribution:\")\n",
        "print(sorted(val_counter.items()))\n",
        "    \n",
        "\n",
        "test_counter = Counter()\n",
        "for images, labels in test_loader:\n",
        "    test_counter.update(labels.tolist())\n",
        "\n",
        "print(\"\\nTest label distribution:\")\n",
        "print(sorted(test_counter.items()))"
      ],
      "metadata": {
        "colab": {
          "base_uri": "https://localhost:8080/"
        },
        "id": "vlBUcto2lLUw",
        "outputId": "e8f34929-c65a-4f33-b656-142006f67a51"
      },
      "execution_count": null,
      "outputs": [
        {
          "output_type": "stream",
          "name": "stdout",
          "text": [
            "\n",
            "Training label distribution:\n",
            "[(0, 5419), (1, 6185), (2, 5477), (3, 5681), (4, 5349), (5, 4974), (6, 5422), (7, 5710), (8, 5351), (9, 5432)]\n",
            "\n",
            "Validation label distribution:\n",
            "[(0, 504), (1, 557), (2, 481), (3, 450), (4, 493), (5, 447), (6, 496), (7, 555), (8, 500), (9, 517)]\n",
            "\n",
            "Test label distribution:\n",
            "[(0, 980), (1, 1135), (2, 1032), (3, 1010), (4, 982), (5, 892), (6, 958), (7, 1028), (8, 974), (9, 1009)]\n"
          ]
        }
      ]
    },
    {
      "cell_type": "markdown",
      "source": [
        "### Zero-rule baseline (majority class classifier)"
      ],
      "metadata": {
        "id": "vAFOwMmbo6lK"
      }
    },
    {
      "cell_type": "code",
      "source": [
        "majority_class = test_counter.most_common(1)[0]\n",
        "print(\"Majority class:\", majority_class[0])\n",
        "\n",
        "baseline_acc = majority_class[1] / sum(test_counter.values())\n",
        "print(\"Accuracy when always predicting the majority class:\")\n",
        "print(f\"{baseline_acc:.2f} ({baseline_acc*100:.2f}%)\")"
      ],
      "metadata": {
        "colab": {
          "base_uri": "https://localhost:8080/"
        },
        "id": "SgO8QKZYlKtl",
        "outputId": "30139a83-cbc8-46b2-dec8-da3c4802511f"
      },
      "execution_count": null,
      "outputs": [
        {
          "output_type": "stream",
          "name": "stdout",
          "text": [
            "Majority class: 1\n",
            "Accuracy when always predicting the majority class:\n",
            "0.11 (11.35%)\n"
          ]
        }
      ]
    },
    {
      "cell_type": "markdown",
      "source": [
        "### Visualize data"
      ],
      "metadata": {
        "id": "0r3xuA-ppDet"
      }
    },
    {
      "cell_type": "code",
      "source": [
        "%matplotlib inline\n",
        "import matplotlib.pyplot as plt\n",
        "import numpy as np\n",
        "import torchvision\n",
        "\n",
        "\n",
        "for images, labels in train_loader:  \n",
        "    break\n",
        "\n",
        "plt.figure(figsize=(8, 8))\n",
        "plt.axis(\"off\")\n",
        "plt.title(\"Training images\")\n",
        "plt.imshow(np.transpose(torchvision.utils.make_grid(\n",
        "    images[:32], \n",
        "    padding=1,\n",
        "    pad_value=1.0,\n",
        "    normalize=True),\n",
        "    (1, 2, 0)))\n",
        "plt.show()"
      ],
      "metadata": {
        "colab": {
          "base_uri": "https://localhost:8080/",
          "height": 370
        },
        "id": "25Q1E5n_o_Pq",
        "outputId": "f675d079-0598-417b-cd4b-5d5dc3423557"
      },
      "execution_count": null,
      "outputs": [
        {
          "output_type": "display_data",
          "data": {
            "text/plain": [
              "<Figure size 800x800 with 1 Axes>"
            ],
            "image/png": "[encoded data removed]"
          },
          "metadata": {}
        }
      ]
    },
    {
      "cell_type": "code",
      "source": [
        "images.shape # batchsize, channel, height, width"
      ],
      "metadata": {
        "colab": {
          "base_uri": "https://localhost:8080/"
        },
        "id": "ztlU3Si2o_LH",
        "outputId": "3bb81a05-c08e-410e-eca1-61775677780f"
      },
      "execution_count": null,
      "outputs": [
        {
          "output_type": "execute_result",
          "data": {
            "text/plain": [
              "torch.Size([64, 1, 28, 28])"
            ]
          },
          "metadata": {},
          "execution_count": 27
        }
      ]
    },
    {
      "cell_type": "code",
      "source": [
        "torch.flatten(images, start_dim=1).shape # batchsize, features"
      ],
      "metadata": {
        "colab": {
          "base_uri": "https://localhost:8080/"
        },
        "id": "uIl3MIY9o_FO",
        "outputId": "63b256a8-0a73-4527-8e68-1ef9b62d0b59"
      },
      "execution_count": null,
      "outputs": [
        {
          "output_type": "execute_result",
          "data": {
            "text/plain": [
              "torch.Size([64, 784])"
            ]
          },
          "metadata": {},
          "execution_count": 28
        }
      ]
    },
    {
      "cell_type": "markdown",
      "source": [
        "### Implementing a model"
      ],
      "metadata": {
        "id": "gVJgVEJSpVgh"
      }
    },
    {
      "cell_type": "code",
      "source": [
        "class PyTorchMLP(torch.nn.Module):\n",
        "    def __init__(self, num_features, num_classes):\n",
        "        super().__init__()\n",
        "\n",
        "        self.all_layers = torch.nn.Sequential(\n",
        "            # 1st hidden layer\n",
        "            torch.nn.Linear(num_features, 50),\n",
        "            torch.nn.ReLU(),\n",
        "            # 2nd hidden layer\n",
        "            torch.nn.Linear(50, 25),\n",
        "            torch.nn.ReLU(),\n",
        "            # output layer\n",
        "            torch.nn.Linear(25, num_classes),\n",
        "        )\n",
        "\n",
        "    def forward(self, x):\n",
        "        x = torch.flatten(x, start_dim=1)\n",
        "        logits = self.all_layers(x)\n",
        "        return logits"
      ],
      "metadata": {
        "id": "qRGT_Ha-o--N"
      },
      "execution_count": null,
      "outputs": []
    },
    {
      "cell_type": "code",
      "source": [
        "import torch.nn.functional as F\n",
        "\n",
        "model = PyTorchMLP(num_features=784, num_classes=10)\n",
        "\n",
        "optimizer = torch.optim.SGD(model.parameters(), lr=0.05)\n",
        "\n",
        "num_epochs = 10\n",
        "\n",
        "loss_list = []\n",
        "train_acc_list, val_acc_list = [], []\n",
        "for epoch in range(num_epochs):\n",
        "\n",
        "    model = model.train()\n",
        "    for batch_idx, (features, labels) in enumerate(train_loader):\n",
        "\n",
        "        logits = model(features)\n",
        "\n",
        "        loss = F.cross_entropy(logits, labels)\n",
        "\n",
        "        optimizer.zero_grad()\n",
        "        loss.backward()\n",
        "        optimizer.step()\n",
        "\n",
        "        if not batch_idx % 250:\n",
        "            ### LOGGING\n",
        "            print(\n",
        "                f\"Epoch: {epoch+1:03d}/{num_epochs:03d}\"\n",
        "                f\" | Batch {batch_idx:03d}/{len(train_loader):03d}\"\n",
        "                f\" | Train Loss: {loss:.2f}\"\n",
        "            )\n",
        "        loss_list.append(loss.item())\n",
        "\n",
        "    train_acc = compute_accuracy(model, train_loader)\n",
        "    val_acc = compute_accuracy(model, val_loader)\n",
        "    print(f\"Train Acc {train_acc*100:.2f}% | Val Acc {val_acc*100:.2f}%\")\n",
        "    train_acc_list.append(train_acc)\n",
        "    val_acc_list.append(val_acc)"
      ],
      "metadata": {
        "colab": {
          "base_uri": "https://localhost:8080/"
        },
        "id": "D2Tb0Uevo-nU",
        "outputId": "9ccf8b4c-ea7a-404b-c610-e5e6f5cf9042"
      },
      "execution_count": null,
      "outputs": [
        {
          "output_type": "stream",
          "name": "stdout",
          "text": [
            "Epoch: 001/010 | Batch 000/860 | Train Loss: 2.31\n",
            "Epoch: 001/010 | Batch 250/860 | Train Loss: 0.60\n",
            "Epoch: 001/010 | Batch 500/860 | Train Loss: 0.30\n",
            "Epoch: 001/010 | Batch 750/860 | Train Loss: 0.39\n",
            "Train Acc 89.87% | Val Acc 89.96%\n",
            "Epoch: 002/010 | Batch 000/860 | Train Loss: 0.47\n",
            "Epoch: 002/010 | Batch 250/860 | Train Loss: 0.19\n",
            "Epoch: 002/010 | Batch 500/860 | Train Loss: 0.17\n",
            "Epoch: 002/010 | Batch 750/860 | Train Loss: 0.41\n",
            "Train Acc 92.54% | Val Acc 91.84%\n",
            "Epoch: 003/010 | Batch 000/860 | Train Loss: 0.28\n",
            "Epoch: 003/010 | Batch 250/860 | Train Loss: 0.18\n",
            "Epoch: 003/010 | Batch 500/860 | Train Loss: 0.23\n",
            "Epoch: 003/010 | Batch 750/860 | Train Loss: 0.12\n",
            "Train Acc 93.84% | Val Acc 93.46%\n",
            "Epoch: 004/010 | Batch 000/860 | Train Loss: 0.17\n",
            "Epoch: 004/010 | Batch 250/860 | Train Loss: 0.24\n",
            "Epoch: 004/010 | Batch 500/860 | Train Loss: 0.12\n",
            "Epoch: 004/010 | Batch 750/860 | Train Loss: 0.13\n",
            "Train Acc 94.53% | Val Acc 93.60%\n",
            "Epoch: 005/010 | Batch 000/860 | Train Loss: 0.25\n",
            "Epoch: 005/010 | Batch 250/860 | Train Loss: 0.16\n",
            "Epoch: 005/010 | Batch 500/860 | Train Loss: 0.16\n",
            "Epoch: 005/010 | Batch 750/860 | Train Loss: 0.04\n",
            "Train Acc 95.99% | Val Acc 94.88%\n",
            "Epoch: 006/010 | Batch 000/860 | Train Loss: 0.08\n",
            "Epoch: 006/010 | Batch 250/860 | Train Loss: 0.15\n",
            "Epoch: 006/010 | Batch 500/860 | Train Loss: 0.23\n",
            "Epoch: 006/010 | Batch 750/860 | Train Loss: 0.05\n",
            "Train Acc 96.27% | Val Acc 95.24%\n",
            "Epoch: 007/010 | Batch 000/860 | Train Loss: 0.24\n",
            "Epoch: 007/010 | Batch 250/860 | Train Loss: 0.14\n",
            "Epoch: 007/010 | Batch 500/860 | Train Loss: 0.15\n",
            "Epoch: 007/010 | Batch 750/860 | Train Loss: 0.14\n",
            "Train Acc 96.62% | Val Acc 95.38%\n",
            "Epoch: 008/010 | Batch 000/860 | Train Loss: 0.15\n",
            "Epoch: 008/010 | Batch 250/860 | Train Loss: 0.10\n",
            "Epoch: 008/010 | Batch 500/860 | Train Loss: 0.22\n",
            "Epoch: 008/010 | Batch 750/860 | Train Loss: 0.13\n",
            "Train Acc 97.20% | Val Acc 95.70%\n",
            "Epoch: 009/010 | Batch 000/860 | Train Loss: 0.13\n",
            "Epoch: 009/010 | Batch 250/860 | Train Loss: 0.11\n",
            "Epoch: 009/010 | Batch 500/860 | Train Loss: 0.11\n",
            "Epoch: 009/010 | Batch 750/860 | Train Loss: 0.20\n",
            "Train Acc 97.27% | Val Acc 95.90%\n",
            "Epoch: 010/010 | Batch 000/860 | Train Loss: 0.09\n",
            "Epoch: 010/010 | Batch 250/860 | Train Loss: 0.23\n",
            "Epoch: 010/010 | Batch 500/860 | Train Loss: 0.04\n",
            "Epoch: 010/010 | Batch 750/860 | Train Loss: 0.04\n",
            "Train Acc 97.64% | Val Acc 96.32%\n"
          ]
        }
      ]
    },
    {
      "cell_type": "markdown",
      "source": [
        "### Evaluating results"
      ],
      "metadata": {
        "id": "WsJNU4i_p9z6"
      }
    },
    {
      "cell_type": "code",
      "source": [
        "train_acc = compute_accuracy(model, train_loader)\n",
        "val_acc = compute_accuracy(model, val_loader)\n",
        "test_acc = compute_accuracy(model, test_loader)\n",
        "\n",
        "print(f\"Train Acc {train_acc*100:.2f}%\")\n",
        "print(f\"Val Acc {val_acc*100:.2f}%\")\n",
        "print(f\"Test Acc {test_acc*100:.2f}%\")"
      ],
      "metadata": {
        "colab": {
          "base_uri": "https://localhost:8080/"
        },
        "id": "CNxcOuB9o-iF",
        "outputId": "277139a7-35fa-4d45-8178-c66ddb948c2a"
      },
      "execution_count": null,
      "outputs": [
        {
          "output_type": "stream",
          "name": "stdout",
          "text": [
            "Train Acc 97.64%\n",
            "Val Acc 96.32%\n",
            "Test Acc 96.85%\n"
          ]
        }
      ]
    },
    {
      "cell_type": "code",
      "source": [
        "def plot_training_loss(\n",
        "    minibatch_loss_list,\n",
        "    num_epochs,\n",
        "    iter_per_epoch,\n",
        "    results_dir=None,\n",
        "    averaging_iterations=100,\n",
        "):\n",
        "\n",
        "    plt.figure()\n",
        "    ax1 = plt.subplot(1, 1, 1)\n",
        "    ax1.plot(\n",
        "        range(len(minibatch_loss_list)), (minibatch_loss_list), label=\"Minibatch Loss\"\n",
        "    )\n",
        "\n",
        "    if len(minibatch_loss_list) > 1000:\n",
        "        ax1.set_ylim([0, np.max(minibatch_loss_list[1000:]) * 1.5])\n",
        "    ax1.set_xlabel(\"Iterations\")\n",
        "    ax1.set_ylabel(\"Loss\")\n",
        "\n",
        "    ax1.plot(\n",
        "        np.convolve(\n",
        "            minibatch_loss_list,\n",
        "            np.ones(\n",
        "                averaging_iterations,\n",
        "            )\n",
        "            / averaging_iterations,\n",
        "            mode=\"valid\",\n",
        "        ),\n",
        "        label=\"Running Average\",\n",
        "    )\n",
        "    ax1.legend()\n",
        "\n",
        "    ###################\n",
        "    # Set scond x-axis\n",
        "    ax2 = ax1.twiny()\n",
        "    newlabel = list(range(num_epochs + 1))\n",
        "\n",
        "    newpos = [e * iter_per_epoch for e in newlabel]\n",
        "\n",
        "    ax2.set_xticks(newpos[::10])\n",
        "    ax2.set_xticklabels(newlabel[::10])\n",
        "\n",
        "    ax2.xaxis.set_ticks_position(\"bottom\")\n",
        "    ax2.xaxis.set_label_position(\"bottom\")\n",
        "    ax2.spines[\"bottom\"].set_position((\"outward\", 45))\n",
        "    ax2.set_xlabel(\"Epochs\")\n",
        "    ax2.set_xlim(ax1.get_xlim())\n",
        "    ###################\n",
        "\n",
        "    plt.tight_layout()\n",
        "\n",
        "    if results_dir is not None:\n",
        "        image_path = os.path.join(results_dir, \"plot_training_loss.pdf\")\n",
        "        plt.savefig(image_path)"
      ],
      "metadata": {
        "id": "-LgOvpteo-cK"
      },
      "execution_count": null,
      "outputs": []
    },
    {
      "cell_type": "code",
      "source": [
        "plot_training_loss(minibatch_loss_list=loss_list,\n",
        "                   num_epochs=num_epochs,\n",
        "                   iter_per_epoch=len(loss_list)//num_epochs)"
      ],
      "metadata": {
        "colab": {
          "base_uri": "https://localhost:8080/",
          "height": 487
        },
        "id": "h0cy8F9Co-F5",
        "outputId": "b3b0c1f5-1524-4412-84f2-b3e6805ba2e0"
      },
      "execution_count": null,
      "outputs": [
        {
          "output_type": "display_data",
          "data": {
            "text/plain": [
              "<Figure size 640x480 with 2 Axes>"
            ],
            "image/png": "[encoded data removed]"
          },
          "metadata": {}
        }
      ]
    },
    {
      "cell_type": "code",
      "source": [
        "def plot_accuracy(train_acc_list, valid_acc_list, results_dir=None):\n",
        "\n",
        "    num_epochs = len(train_acc_list)\n",
        "\n",
        "    plt.plot(np.arange(1, num_epochs + 1), train_acc_list, label=\"Training\")\n",
        "    plt.plot(np.arange(1, num_epochs + 1), valid_acc_list, label=\"Validation\")\n",
        "\n",
        "    plt.xlabel(\"Epoch\")\n",
        "    plt.ylabel(\"Accuracy\")\n",
        "    plt.legend()\n",
        "\n",
        "    plt.tight_layout()\n",
        "\n",
        "    if results_dir is not None:\n",
        "        image_path = os.path.join(results_dir, \"plot_acc_training_validation.pdf\")\n",
        "        plt.savefig(image_path)"
      ],
      "metadata": {
        "id": "eUXKFSYzq6Tw"
      },
      "execution_count": null,
      "outputs": []
    },
    {
      "cell_type": "code",
      "source": [
        "plot_accuracy(train_acc_list=train_acc_list, valid_acc_list=val_acc_list)"
      ],
      "metadata": {
        "colab": {
          "base_uri": "https://localhost:8080/",
          "height": 486
        },
        "id": "ZW-sKCp8q61N",
        "outputId": "c8eb54f4-53a6-4293-a329-d3f92722f7a4"
      },
      "execution_count": null,
      "outputs": [
        {
          "output_type": "display_data",
          "data": {
            "text/plain": [
              "<Figure size 640x480 with 1 Axes>"
            ],
            "image/png": "[encoded data removed]"
          },
          "metadata": {}
        }
      ]
    },
    {
      "cell_type": "markdown",
      "source": [
        "### Inspecting failure cases"
      ],
      "metadata": {
        "id": "7aVBNfNrrLOt"
      }
    },
    {
      "cell_type": "code",
      "source": [
        "def show_examples(model, data_loader, unnormalizer=None, class_dict=None):\n",
        "\n",
        "    fail_features, fail_targets, fail_predicted = [], [], []\n",
        "    for batch_idx, (features, targets) in enumerate(data_loader):\n",
        "\n",
        "        with torch.no_grad():\n",
        "            logits = model(features)\n",
        "            predictions = torch.argmax(logits, dim=1)\n",
        "\n",
        "            mask = targets != predictions\n",
        "\n",
        "            fail_features.extend(features[mask])\n",
        "            fail_targets.extend(targets[mask])\n",
        "            fail_predicted.extend(predictions[mask])\n",
        "\n",
        "        if len(fail_targets) > 15:\n",
        "            break\n",
        "\n",
        "    fail_features = torch.cat(fail_features)\n",
        "    fail_targets = torch.tensor(fail_targets)\n",
        "    fail_predicted = torch.tensor(fail_predicted)\n",
        "\n",
        "    fig, axes = plt.subplots(nrows=3, ncols=5, sharex=True, sharey=True)\n",
        "\n",
        "    if unnormalizer is not None:\n",
        "        for idx in range(fail_features.shape[0]):\n",
        "            features[idx] = unnormalizer(fail_features[idx])\n",
        "\n",
        "    if fail_features.ndim == 4:\n",
        "        nhwc_img = np.transpose(fail_features, axes=(0, 2, 3, 1))\n",
        "        nhw_img = np.squeeze(nhwc_img.numpy(), axis=3)\n",
        "\n",
        "        for idx, ax in enumerate(axes.ravel()):\n",
        "            ax.imshow(nhw_img[idx], cmap=\"binary\")\n",
        "            if class_dict is not None:\n",
        "                ax.title.set_text(\n",
        "                    f\"P: {class_dict[fail_predicted[idx].item()]}\"\n",
        "                    f\"\\nT: {class_dict[fail_targets[idx].item()]}\"\n",
        "                )\n",
        "            else:\n",
        "                ax.title.set_text(f\"P: {fail_predicted[idx]} | T: {fail_targets[idx]}\")\n",
        "            ax.axison = False\n",
        "\n",
        "    else:\n",
        "\n",
        "        for idx, ax in enumerate(axes.ravel()):\n",
        "            ax.imshow(fail_features[idx], cmap=\"binary\")\n",
        "            if class_dict is not None:\n",
        "                ax.title.set_text(\n",
        "                    f\"P: {class_dict[fail_predicted[idx].item()]}\"\n",
        "                    f\"\\nT: {class_dict[fail_targets[idx].item()]}\"\n",
        "                )\n",
        "            else:\n",
        "                ax.title.set_text(f\"P: {fail_predicted[idx]} | T: {targets[idx]}\")\n",
        "            ax.axison = False\n",
        "    plt.tight_layout()\n",
        "    plt.show()"
      ],
      "metadata": {
        "id": "UJ9ZrG4Eq8Sj"
      },
      "execution_count": null,
      "outputs": []
    },
    {
      "cell_type": "code",
      "source": [
        "class_dict = {0: 'digit 0',\n",
        "              1: 'digit 1',\n",
        "              2: 'digit 2',\n",
        "              3: 'digit 3',\n",
        "              4: 'digit 4',\n",
        "              5: 'digit 5',\n",
        "              6: 'digit 6',\n",
        "              7: 'digit 7',\n",
        "              8: 'digit 8',\n",
        "              9: 'digit 9'}"
      ],
      "metadata": {
        "id": "GRgZ--HTrVBV"
      },
      "execution_count": null,
      "outputs": []
    },
    {
      "cell_type": "code",
      "source": [
        "show_examples(\n",
        "    model=model, data_loader=test_loader, class_dict=class_dict\n",
        ")"
      ],
      "metadata": {
        "colab": {
          "base_uri": "https://localhost:8080/",
          "height": 492
        },
        "id": "Ps2fprKPrONU",
        "outputId": "854bb39b-33db-4370-8741-d21072a7ef25"
      },
      "execution_count": null,
      "outputs": [
        {
          "output_type": "display_data",
          "data": {
            "text/plain": [
              "<Figure size 640x480 with 15 Axes>"
            ],
            "image/png": "[encoded data removed]"
          },
          "metadata": {}
        }
      ]
    },
    {
      "cell_type": "markdown",
      "source": [
        "## Multilayer Neural Networks for Regression\n",
        "\n",
        "We can use deep neural networks for regression, too! We can turn a multilayer perceptron classifier into a regression model with only two minor changes:\n",
        "- Removing the logistic sigmoid / softmax activation function from the output layer. One output node for continuous value.\n",
        "- swapping the cross entropy loss with the mean squared error loss.\n",
        "\n",
        "If you plan to implement neural networks for regression, also consider using the R-squared coefficient as an evaluation metric. The R2 score is available in TorchMetrics."
      ],
      "metadata": {
        "id": "ErVszNwZf84Y"
      }
    },
    {
      "cell_type": "code",
      "source": [
        "logits = torch.tensor([1.23, 0.51, -2.5])\n",
        "true_label = torch.tensor([-1.0, 0.55, -1.2])\n",
        "\n",
        "F.mse_loss(logits, true_label)"
      ],
      "metadata": {
        "colab": {
          "base_uri": "https://localhost:8080/"
        },
        "id": "Vvrfhj57kKND",
        "outputId": "e7063a9a-ec5c-405e-cede-eb0e91f6baca"
      },
      "execution_count": 47,
      "outputs": [
        {
          "output_type": "execute_result",
          "data": {
            "text/plain": [
              "tensor(2.2215)"
            ]
          },
          "metadata": {},
          "execution_count": 47
        }
      ]
    },
    {
      "cell_type": "code",
      "source": [
        "# Toy Dataset\n",
        "\n",
        "X_train = torch.tensor(\n",
        "    [258.0, 270.0, 294.0, 320.0, 342.0, 368.0, 396.0, 446.0, 480.0, 586.0]\n",
        ").view(-1, 1)\n",
        "\n",
        "y_train = torch.tensor(\n",
        "    [236.4, 234.4, 252.8, 298.6, 314.2, 342.2, 360.8, 368.0, 391.2, 390.8]\n",
        ")"
      ],
      "metadata": {
        "id": "PRYygJpMrPhc"
      },
      "execution_count": 36,
      "outputs": []
    },
    {
      "cell_type": "code",
      "source": [
        "import matplotlib.pyplot as plt\n",
        "\n",
        "plt.scatter(X_train, y_train)\n",
        "plt.xlabel(\"Feature variable\")\n",
        "plt.ylabel(\"Target variable\")\n",
        "plt.show()"
      ],
      "metadata": {
        "colab": {
          "base_uri": "https://localhost:8080/",
          "height": 449
        },
        "id": "Zqm6zisWhbng",
        "outputId": "643c2811-2be5-43c3-e6d7-d25bd4b5de7e"
      },
      "execution_count": 37,
      "outputs": [
        {
          "output_type": "display_data",
          "data": {
            "text/plain": [
              "<Figure size 640x480 with 1 Axes>"
            ],
            "image/png": "[encoded data removed]"
          },
          "metadata": {}
        }
      ]
    },
    {
      "cell_type": "code",
      "source": [
        "# Normalize data\n",
        "x_mean, x_std = X_train.mean(), X_train.std()\n",
        "y_mean, y_std = y_train.mean(), y_train.std()\n",
        "\n",
        "X_train_norm = (X_train - x_mean) / x_std\n",
        "y_train_norm = (y_train - y_mean) / y_std"
      ],
      "metadata": {
        "id": "YTx4K4oHhu4E"
      },
      "execution_count": 39,
      "outputs": []
    },
    {
      "cell_type": "markdown",
      "source": [
        "### Implement Regression MLP"
      ],
      "metadata": {
        "id": "OolYBLr8hgRx"
      }
    },
    {
      "cell_type": "code",
      "source": [
        "class RegressionMLP(torch.nn.Module):\n",
        "    def __init__(self, num_features):\n",
        "        super().__init__()\n",
        "\n",
        "        self.all_layers = torch.nn.Sequential(\n",
        "            # 1st hidden layer\n",
        "            torch.nn.Linear(num_features, 50),\n",
        "            torch.nn.ReLU(),\n",
        "            # 2nd hidden layer\n",
        "            torch.nn.Linear(50, 25),\n",
        "            torch.nn.ReLU(),\n",
        "            # output layer\n",
        "            torch.nn.Linear(25, 1), ## Only 1 output unit\n",
        "        )\n",
        "\n",
        "    def forward(self, x):\n",
        "        logits = self.all_layers(x).flatten()\n",
        "        return logits"
      ],
      "metadata": {
        "id": "AcoEC2DuhbgF"
      },
      "execution_count": 38,
      "outputs": []
    },
    {
      "cell_type": "code",
      "source": [
        "# Set up DataLoader\n",
        "\n",
        "from torch.utils.data import DataLoader, Dataset\n",
        "\n",
        "class MyDataset(Dataset):\n",
        "    def __init__(self, X, y):\n",
        "        self.features = X\n",
        "        self.targets = y\n",
        "\n",
        "    def __getitem__(self, index):\n",
        "        x = self.features[index]\n",
        "        y = self.targets[index]\n",
        "        return x, y\n",
        "\n",
        "    def __len__(self):\n",
        "        return self.targets.shape[0]\n",
        "\n",
        "\n",
        "train_ds = MyDataset(X_train_norm, y_train_norm)\n",
        "\n",
        "train_loader = DataLoader(\n",
        "    dataset=train_ds,\n",
        "    batch_size=20,\n",
        "    shuffle=True,\n",
        ")"
      ],
      "metadata": {
        "id": "psZgYaPShbcw"
      },
      "execution_count": 40,
      "outputs": []
    },
    {
      "cell_type": "markdown",
      "source": [
        "### Train MLP model for regression"
      ],
      "metadata": {
        "id": "UBo5K-4kh7SZ"
      }
    },
    {
      "cell_type": "code",
      "source": [
        "model = RegressionMLP(num_features=1)\n",
        "optimizer = torch.optim.SGD(model.parameters(), lr=0.1)"
      ],
      "metadata": {
        "id": "3EYan9foiDxb"
      },
      "execution_count": 41,
      "outputs": []
    },
    {
      "cell_type": "code",
      "source": [
        "num_epochs = 30"
      ],
      "metadata": {
        "id": "m_6sgKvdiFOU"
      },
      "execution_count": 42,
      "outputs": []
    },
    {
      "cell_type": "code",
      "source": [
        "# Mostly identical code as for classification (but mse_loss)\n",
        "\n",
        "loss_list = []\n",
        "train_acc_list, val_acc_list = [], []\n",
        "\n",
        "for epoch in range(num_epochs):\n",
        "\n",
        "    model = model.train()\n",
        "    for batch_idx, (features, targets) in enumerate(train_loader):\n",
        "\n",
        "        logits = model(features)\n",
        "        loss = F.mse_loss(logits, targets)\n",
        "\n",
        "        optimizer.zero_grad()\n",
        "        loss.backward()\n",
        "        optimizer.step()\n",
        "\n",
        "        if not batch_idx % 250:\n",
        "            ### LOGGING\n",
        "            print(\n",
        "                f\"Epoch: {epoch+1:03d}/{num_epochs:03d}\"\n",
        "                f\" | Batch {batch_idx:03d}/{len(train_loader):03d}\"\n",
        "                f\" | Train Loss: {loss:.2f}\"\n",
        "            )\n",
        "        loss_list.append(loss.item())"
      ],
      "metadata": {
        "colab": {
          "base_uri": "https://localhost:8080/"
        },
        "id": "n3c8eQUahbaB",
        "outputId": "45b60c10-58ee-4cdd-8e35-a2ef7966e438"
      },
      "execution_count": 43,
      "outputs": [
        {
          "output_type": "stream",
          "name": "stdout",
          "text": [
            "Epoch: 001/030 | Batch 000/001 | Train Loss: 0.94\n",
            "Epoch: 002/030 | Batch 000/001 | Train Loss: 0.55\n",
            "Epoch: 003/030 | Batch 000/001 | Train Loss: 0.34\n",
            "Epoch: 004/030 | Batch 000/001 | Train Loss: 0.20\n",
            "Epoch: 005/030 | Batch 000/001 | Train Loss: 0.12\n",
            "Epoch: 006/030 | Batch 000/001 | Train Loss: 0.09\n",
            "Epoch: 007/030 | Batch 000/001 | Train Loss: 0.08\n",
            "Epoch: 008/030 | Batch 000/001 | Train Loss: 0.07\n",
            "Epoch: 009/030 | Batch 000/001 | Train Loss: 0.06\n",
            "Epoch: 010/030 | Batch 000/001 | Train Loss: 0.05\n",
            "Epoch: 011/030 | Batch 000/001 | Train Loss: 0.04\n",
            "Epoch: 012/030 | Batch 000/001 | Train Loss: 0.04\n",
            "Epoch: 013/030 | Batch 000/001 | Train Loss: 0.03\n",
            "Epoch: 014/030 | Batch 000/001 | Train Loss: 0.03\n",
            "Epoch: 015/030 | Batch 000/001 | Train Loss: 0.03\n",
            "Epoch: 016/030 | Batch 000/001 | Train Loss: 0.03\n",
            "Epoch: 017/030 | Batch 000/001 | Train Loss: 0.02\n",
            "Epoch: 018/030 | Batch 000/001 | Train Loss: 0.02\n",
            "Epoch: 019/030 | Batch 000/001 | Train Loss: 0.02\n",
            "Epoch: 020/030 | Batch 000/001 | Train Loss: 0.02\n",
            "Epoch: 021/030 | Batch 000/001 | Train Loss: 0.02\n",
            "Epoch: 022/030 | Batch 000/001 | Train Loss: 0.02\n",
            "Epoch: 023/030 | Batch 000/001 | Train Loss: 0.02\n",
            "Epoch: 024/030 | Batch 000/001 | Train Loss: 0.02\n",
            "Epoch: 025/030 | Batch 000/001 | Train Loss: 0.02\n",
            "Epoch: 026/030 | Batch 000/001 | Train Loss: 0.02\n",
            "Epoch: 027/030 | Batch 000/001 | Train Loss: 0.01\n",
            "Epoch: 028/030 | Batch 000/001 | Train Loss: 0.01\n",
            "Epoch: 029/030 | Batch 000/001 | Train Loss: 0.01\n",
            "Epoch: 030/030 | Batch 000/001 | Train Loss: 0.01\n"
          ]
        }
      ]
    },
    {
      "cell_type": "code",
      "source": [
        "model.eval()\n",
        "\n",
        "# Test data\n",
        "X_range = torch.arange(150, 800, 0.1).view(-1, 1)\n",
        "\n",
        "# Normalize by using training dataset mean/std\n",
        "X_range_norm = (X_range - x_mean) / x_std\n",
        "\n",
        "# predict\n",
        "with torch.no_grad():\n",
        "    y_mlp_norm = model(X_range_norm)\n",
        "\n",
        "# MLP returns normalized predictions\n",
        "# undo normalization of preditions for plotting\n",
        "y_mlp = y_mlp_norm * y_std + y_mean"
      ],
      "metadata": {
        "id": "3J37HAAThbWp"
      },
      "execution_count": 44,
      "outputs": []
    },
    {
      "cell_type": "code",
      "source": [
        "# plot results\n",
        "plt.scatter(X_train, y_train, label=\"Training points\")\n",
        "plt.plot(X_range, y_mlp, color=\"C1\", label=\"MLP fit\", linestyle=\"-\")\n",
        "\n",
        "\n",
        "plt.xlabel(\"Feature variable\")\n",
        "plt.ylabel(\"Target variable\")\n",
        "plt.legend()\n",
        "# plt.savefig(\"mlp.pdf\")\n",
        "plt.show()"
      ],
      "metadata": {
        "colab": {
          "base_uri": "https://localhost:8080/",
          "height": 449
        },
        "id": "YGtX77h9hbTt",
        "outputId": "6fc40e0a-3825-4e70-a462-5ab765b2315a"
      },
      "execution_count": 45,
      "outputs": [
        {
          "output_type": "display_data",
          "data": {
            "text/plain": [
              "<Figure size 640x480 with 1 Axes>"
            ],
            "image/png": "[encoded data removed]"
          },
          "metadata": {}
        }
      ]
    },
    {
      "cell_type": "markdown",
      "source": [
        "## Speeding Up Model Training Using GPUs\n",
        "\n",
        "Transfer tensors from the CPU to GPU memory to train neural networks more efficiently — GPUs are especially great for linear algebra operations that can be parallelized, for example, dot products and matrix multiplication.  \n",
        "\n",
        "\n",
        "Move to the GPU memory in order to take advantage of GPU-accelerated training?\n",
        "\n",
        "- features. We need to have the features on the GPU since we use them to compute the forward and backward pass.\n",
        "\n",
        "- labels. It is necessary to have those in GPU memory if we compute the loss that also involves the predictions in GPU memory.\n",
        "\n",
        "- model. The model weights need to be on the GPU for both the forward and the backward pass."
      ],
      "metadata": {
        "id": "GKCdREECpIow"
      }
    },
    {
      "cell_type": "markdown",
      "source": [
        "Tensors come with GPU support! \n",
        "\n",
        "**Key idea**: load the data and model into GPU memory for faster computing."
      ],
      "metadata": {
        "id": "pfRKB4hFqZqK"
      }
    },
    {
      "cell_type": "code",
      "source": [
        "# transfer from CPU memory to GPU memory\n",
        "a.to('cuda')\n",
        "\n",
        "# cuda - GPU computing library specifically for nvidia GPUs\n",
        "# PyTorch supports nvidia, amd GPUs and apple silicon chips"
      ],
      "metadata": {
        "id": "XjEFlu3Fb4DD"
      },
      "execution_count": null,
      "outputs": []
    },
    {
      "cell_type": "markdown",
      "source": [
        "Why GPUs are good for parallel computations (like matrix multiplications)?\n",
        "\n",
        "- more memory bandwidth than CPU (e.g. 912 GB/s vs 45.8 GB/s)\n",
        "- more computing cores (e.g. 10240 vs 32)\n",
        "- floating-point calculations (34.10 TFLOPS vs 742 GFLOPS)"
      ],
      "metadata": {
        "id": "vVVseGW6rTYr"
      }
    },
    {
      "cell_type": "code",
      "source": [
        "torch.cuda.is_available()"
      ],
      "metadata": {
        "colab": {
          "base_uri": "https://localhost:8080/"
        },
        "id": "M0Gk_85JwZnX",
        "outputId": "9e1dcaf8-c143-46ba-d673-7dff15472b0d"
      },
      "execution_count": 2,
      "outputs": [
        {
          "output_type": "execute_result",
          "data": {
            "text/plain": [
              "False"
            ]
          },
          "metadata": {},
          "execution_count": 2
        }
      ]
    },
    {
      "cell_type": "code",
      "source": [
        "my_tensor = torch.tensor([1., 2., 3.])\n",
        "my_tensor"
      ],
      "metadata": {
        "colab": {
          "base_uri": "https://localhost:8080/"
        },
        "id": "8wqET2uKwZjP",
        "outputId": "6b5a188b-8cb4-4be3-f68e-8436322107e8"
      },
      "execution_count": 3,
      "outputs": [
        {
          "output_type": "execute_result",
          "data": {
            "text/plain": [
              "tensor([1., 2., 3.])"
            ]
          },
          "metadata": {},
          "execution_count": 3
        }
      ]
    },
    {
      "cell_type": "code",
      "source": [
        "# Transfer to GPU memory\n",
        "my_tensor = my_tensor.to('cuda')\n",
        "my_tensor"
      ],
      "metadata": {
        "id": "3lSVFs45haxt"
      },
      "execution_count": null,
      "outputs": []
    },
    {
      "cell_type": "code",
      "source": [
        "# Transfer to CPU memory\n",
        "my_tensor = my_tensor.to('cpu')\n",
        "my_tensor"
      ],
      "metadata": {
        "id": "MEUnJkA9sWug"
      },
      "execution_count": null,
      "outputs": []
    },
    {
      "cell_type": "code",
      "source": [
        "# Only minor code modifications requried to train a model on a GPU\n",
        "\n",
        "model = MySuperModel(num_features=100, num_classes=10)\n",
        "model.to('cuda')\n",
        "\n",
        "for each epoch:\n",
        "    for batch_idx, (features, labels) in enumerate(train_loader):\n",
        "\n",
        "        features = features.to('cuda')\n",
        "        labels = labels.to('cuda')\n",
        "\n",
        "        logits = model(features)\n",
        "        # the rest"
      ],
      "metadata": {
        "id": "VnnOutfjshtq"
      },
      "execution_count": null,
      "outputs": []
    },
    {
      "cell_type": "code",
      "source": [],
      "metadata": {
        "id": "n6Ql7vmltAts"
      },
      "execution_count": null,
      "outputs": []
    }
  ]
}