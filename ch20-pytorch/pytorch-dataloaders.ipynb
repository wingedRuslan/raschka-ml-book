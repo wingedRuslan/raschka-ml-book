{
  "cells": [
    {
      "cell_type": "markdown",
      "source": [
        "**DataLoaders** - get the data to the model efficiently.\n",
        "\n",
        "It's time to worry about optimizing our data-loading pipeline.   \n",
        "PyTorch's Dataset and DataLoader classes help us fetch the training batches \n",
        "in the background using multiple processes. \n",
        "\n",
        "To *avoid computational bottlenecks*, using these background processes ensures \n",
        "that the next batch of data is ready when the model finishes its backward pass.\n",
        "\n",
        "Using the **Dataset** and **DataLoader** classes is the most convenient way to load data in PyTorch.   \n",
        "There is also a new DataPipe class that the PyTorch team is developing. "
      ],
      "metadata": {
        "id": "kdQqExPbijUT"
      },
      "id": "kdQqExPbijUT"
    },
    {
      "cell_type": "code",
      "source": [
        "\"\"\"\n",
        "for each epoch:\n",
        "    for each batch:\n",
        "        # LOAD DATA --> x, y | **Bottleneck**: model waits for the next batch.\n",
        "\n",
        "        out = model(x)\n",
        "        loss...\n",
        "        optimizer...\n",
        "\"\"\""
      ],
      "metadata": {
        "id": "QcTpuTdMjIfl"
      },
      "id": "QcTpuTdMjIfl",
      "execution_count": null,
      "outputs": []
    },
    {
      "cell_type": "markdown",
      "source": [
        "**Bottleneck** - especially for large datasets that do not fit into compute memory anymore.  \n",
        "if data loading takes some time --> inefficiency because the model is waiting for the next batch to be loaded.  \n",
        "\n",
        "To make it *more efficient* - nice to have mini-batches pre-loaded so that the model never has to wait until it receives the next mini-batch\n",
        "\n",
        "**Idea**: We want the data loading and the model training in two separate processes. \n",
        "- Data loading preparing the next mini-batches for the model, which receices mini-batch to compute the rest stuff. \n",
        "- Without having waiting period where the model is waiting for next minibatch to be loaded.\n",
        "\n",
        "Process 1 - model training process  \n",
        "Process 2 - data loader - preparing the next mini-batch while model training the previous\n",
        "\n",
        "--> Pytorch does this for us!"
      ],
      "metadata": {
        "id": "sRUrBy79jOmC"
      },
      "id": "sRUrBy79jOmC"
    },
    {
      "cell_type": "code",
      "source": [
        "\"\"\"\n",
        "for epoch in range(num_epochs):\n",
        "    for batch_idx, (inputs, labels) in enumerate(train_loader):\n",
        "        # the rest\n",
        "\"\"\""
      ],
      "metadata": {
        "id": "-bazRv2ljpPR"
      },
      "id": "-bazRv2ljpPR",
      "execution_count": null,
      "outputs": []
    },
    {
      "cell_type": "markdown",
      "source": [
        "train_loader - in the background prepares the next mini-batches when we iterate over it while the model is training.\n",
        "\n",
        "\n",
        "**Motivation** behind data loaders - want to have a background process running the data loading while the model is training  "
      ],
      "metadata": {
        "id": "XUTal_ifjweE"
      },
      "id": "XUTal_ifjweE"
    },
    {
      "cell_type": "code",
      "source": [
        "from torch.utils.data import DataLoader\n",
        "\n",
        "train_loader = DataLoader(\n",
        "    dataset = train_dataset,\n",
        "    batch_size = 32,\n",
        "    shuffle = True,\n",
        "    drop_last = True,    # drop the last batch if train_size is not evenly divisible by batch size\n",
        "    num_workers = 2\n",
        ")\n",
        "\n",
        "'''\n",
        "**num_workers** - use multiple processes to load data in the background (pre-fetching next mini-batches) \n",
        "so that they are ready when the model is ready to train\n",
        "'''"
      ],
      "metadata": {
        "id": "hzgi05Icj7yh"
      },
      "id": "hzgi05Icj7yh",
      "execution_count": null,
      "outputs": []
    },
    {
      "cell_type": "markdown",
      "source": [
        "### How do Datasets amd DataLoaders work together?\n",
        "\n",
        "Step 1: Create a custom Dataset\n",
        "- defines how data is loaded \n",
        "- has __getitem__ method  - define how to load a single record (individual data sample)\n",
        "- __len__ - the lengths of the dataset\n",
        "\n",
        "Step 2: Instantiate Datasets\n",
        "- Train/Val/Test Datasets\n",
        "\n",
        "Step 3: Instantiate DataLoaders\n",
        "- Train/Val/Test Data Loaders\n",
        "- define: shuffling, batch size, number of processes etc.\n",
        "\n",
        "Step 4: Test/Use DataLoaders\n",
        "- inspect returned features, labels\n",
        "- labels - shuffled?\n",
        "- sanity check"
      ],
      "metadata": {
        "id": "JXcW5ACikTip"
      },
      "id": "JXcW5ACikTip"
    },
    {
      "cell_type": "markdown",
      "id": "4ea39cec-0612-4dda-89ec-70755fef67e6",
      "metadata": {
        "id": "4ea39cec-0612-4dda-89ec-70755fef67e6"
      },
      "source": [
        "## Practice defining efficient Data Loaders"
      ]
    },
    {
      "cell_type": "markdown",
      "source": [
        "Obtaining dataset from the github repo."
      ],
      "metadata": {
        "id": "MjOAdrPok8Iw"
      },
      "id": "MjOAdrPok8Iw"
    },
    {
      "cell_type": "code",
      "source": [
        "!pip install gitpython"
      ],
      "metadata": {
        "id": "zwBhT1pckyON"
      },
      "id": "zwBhT1pckyON",
      "execution_count": null,
      "outputs": []
    },
    {
      "cell_type": "code",
      "source": [
        "import os\n",
        "from git import Repo\n",
        "\n",
        "if not os.path.exists(\"mnist-pngs\"):\n",
        "    Repo.clone_from(\"https://github.com/rasbt/mnist-pngs\", \"mnist-pngs\")"
      ],
      "metadata": {
        "id": "kNFDF6yYk7AZ"
      },
      "id": "kNFDF6yYk7AZ",
      "execution_count": 3,
      "outputs": []
    },
    {
      "cell_type": "code",
      "source": [
        "import pandas as pd\n",
        "\n",
        "df_train = pd.read_csv('mnist-pngs/train.csv')\n",
        "df_train.head()"
      ],
      "metadata": {
        "colab": {
          "base_uri": "https://localhost:8080/",
          "height": 206
        },
        "id": "OvSdoWcrlCPd",
        "outputId": "be76e1e8-0536-4419-c65f-69ed63338cb6"
      },
      "id": "OvSdoWcrlCPd",
      "execution_count": 4,
      "outputs": [
        {
          "output_type": "execute_result",
          "data": {
            "text/plain": [
              "            filepath  label\n",
              "0  train/0/16585.png      0\n",
              "1  train/0/24537.png      0\n",
              "2  train/0/25629.png      0\n",
              "3  train/0/20751.png      0\n",
              "4  train/0/34730.png      0"
            ],
            "text/html": [
              "\n",
              "  <div id=\"df-a2f01e5c-d82e-486e-a627-8cd78a73d5af\">\n",
              "    <div class=\"colab-df-container\">\n",
              "      <div>\n",
              "<style scoped>\n",
              "    .dataframe tbody tr th:only-of-type {\n",
              "        vertical-align: middle;\n",
              "    }\n",
              "\n",
              "    .dataframe tbody tr th {\n",
              "        vertical-align: top;\n",
              "    }\n",
              "\n",
              "    .dataframe thead th {\n",
              "        text-align: right;\n",
              "    }\n",
              "</style>\n",
              "<table border=\"1\" class=\"dataframe\">\n",
              "  <thead>\n",
              "    <tr style=\"text-align: right;\">\n",
              "      <th></th>\n",
              "      <th>filepath</th>\n",
              "      <th>label</th>\n",
              "    </tr>\n",
              "  </thead>\n",
              "  <tbody>\n",
              "    <tr>\n",
              "      <th>0</th>\n",
              "      <td>train/0/16585.png</td>\n",
              "      <td>0</td>\n",
              "    </tr>\n",
              "    <tr>\n",
              "      <th>1</th>\n",
              "      <td>train/0/24537.png</td>\n",
              "      <td>0</td>\n",
              "    </tr>\n",
              "    <tr>\n",
              "      <th>2</th>\n",
              "      <td>train/0/25629.png</td>\n",
              "      <td>0</td>\n",
              "    </tr>\n",
              "    <tr>\n",
              "      <th>3</th>\n",
              "      <td>train/0/20751.png</td>\n",
              "      <td>0</td>\n",
              "    </tr>\n",
              "    <tr>\n",
              "      <th>4</th>\n",
              "      <td>train/0/34730.png</td>\n",
              "      <td>0</td>\n",
              "    </tr>\n",
              "  </tbody>\n",
              "</table>\n",
              "</div>\n",
              "      <button class=\"colab-df-convert\" onclick=\"convertToInteractive('df-a2f01e5c-d82e-486e-a627-8cd78a73d5af')\"\n",
              "              title=\"Convert this dataframe to an interactive table.\"\n",
              "              style=\"display:none;\">\n",
              "        \n",
              "  <svg xmlns=\"http://www.w3.org/2000/svg\" height=\"24px\"viewBox=\"0 0 24 24\"\n",
              "       width=\"24px\">\n",
              "    <path d=\"M0 0h24v24H0V0z\" fill=\"none\"/>\n",
              "    <path d=\"M18.56 5.44l.94 2.06.94-2.06 2.06-.94-2.06-.94-.94-2.06-.94 2.06-2.06.94zm-11 1L8.5 8.5l.94-2.06 2.06-.94-2.06-.94L8.5 2.5l-.94 2.06-2.06.94zm10 10l.94 2.06.94-2.06 2.06-.94-2.06-.94-.94-2.06-.94 2.06-2.06.94z\"/><path d=\"M17.41 7.96l-1.37-1.37c-.4-.4-.92-.59-1.43-.59-.52 0-1.04.2-1.43.59L10.3 9.45l-7.72 7.72c-.78.78-.78 2.05 0 2.83L4 21.41c.39.39.9.59 1.41.59.51 0 1.02-.2 1.41-.59l7.78-7.78 2.81-2.81c.8-.78.8-2.07 0-2.86zM5.41 20L4 18.59l7.72-7.72 1.47 1.35L5.41 20z\"/>\n",
              "  </svg>\n",
              "      </button>\n",
              "      \n",
              "  <style>\n",
              "    .colab-df-container {\n",
              "      display:flex;\n",
              "      flex-wrap:wrap;\n",
              "      gap: 12px;\n",
              "    }\n",
              "\n",
              "    .colab-df-convert {\n",
              "      background-color: #E8F0FE;\n",
              "      border: none;\n",
              "      border-radius: 50%;\n",
              "      cursor: pointer;\n",
              "      display: none;\n",
              "      fill: #1967D2;\n",
              "      height: 32px;\n",
              "      padding: 0 0 0 0;\n",
              "      width: 32px;\n",
              "    }\n",
              "\n",
              "    .colab-df-convert:hover {\n",
              "      background-color: #E2EBFA;\n",
              "      box-shadow: 0px 1px 2px rgba(60, 64, 67, 0.3), 0px 1px 3px 1px rgba(60, 64, 67, 0.15);\n",
              "      fill: #174EA6;\n",
              "    }\n",
              "\n",
              "    [theme=dark] .colab-df-convert {\n",
              "      background-color: #3B4455;\n",
              "      fill: #D2E3FC;\n",
              "    }\n",
              "\n",
              "    [theme=dark] .colab-df-convert:hover {\n",
              "      background-color: #434B5C;\n",
              "      box-shadow: 0px 1px 3px 1px rgba(0, 0, 0, 0.15);\n",
              "      filter: drop-shadow(0px 1px 2px rgba(0, 0, 0, 0.3));\n",
              "      fill: #FFFFFF;\n",
              "    }\n",
              "  </style>\n",
              "\n",
              "      <script>\n",
              "        const buttonEl =\n",
              "          document.querySelector('#df-a2f01e5c-d82e-486e-a627-8cd78a73d5af button.colab-df-convert');\n",
              "        buttonEl.style.display =\n",
              "          google.colab.kernel.accessAllowed ? 'block' : 'none';\n",
              "\n",
              "        async function convertToInteractive(key) {\n",
              "          const element = document.querySelector('#df-a2f01e5c-d82e-486e-a627-8cd78a73d5af');\n",
              "          const dataTable =\n",
              "            await google.colab.kernel.invokeFunction('convertToInteractive',\n",
              "                                                     [key], {});\n",
              "          if (!dataTable) return;\n",
              "\n",
              "          const docLinkHtml = 'Like what you see? Visit the ' +\n",
              "            '<a target=\"_blank\" href=https://colab.research.google.com/notebooks/data_table.ipynb>data table notebook</a>'\n",
              "            + ' to learn more about interactive tables.';\n",
              "          element.innerHTML = '';\n",
              "          dataTable['output_type'] = 'display_data';\n",
              "          await google.colab.output.renderOutput(dataTable, element);\n",
              "          const docLink = document.createElement('div');\n",
              "          docLink.innerHTML = docLinkHtml;\n",
              "          element.appendChild(docLink);\n",
              "        }\n",
              "      </script>\n",
              "    </div>\n",
              "  </div>\n",
              "  "
            ]
          },
          "metadata": {},
          "execution_count": 4
        }
      ]
    },
    {
      "cell_type": "code",
      "source": [
        "df_test = pd.read_csv('mnist-pngs/test.csv')\n",
        "df_test.head()"
      ],
      "metadata": {
        "colab": {
          "base_uri": "https://localhost:8080/",
          "height": 206
        },
        "id": "GO-aYZFwlFFu",
        "outputId": "6cdfdc86-d29d-4897-ea74-a3f3afad897e"
      },
      "id": "GO-aYZFwlFFu",
      "execution_count": 5,
      "outputs": [
        {
          "output_type": "execute_result",
          "data": {
            "text/plain": [
              "           filepath  label\n",
              "0  test/0/66062.png      0\n",
              "1  test/0/64675.png      0\n",
              "2  test/0/62204.png      0\n",
              "3  test/0/60407.png      0\n",
              "4  test/0/67368.png      0"
            ],
            "text/html": [
              "\n",
              "  <div id=\"df-ecb6fbc8-04ce-40f8-bf40-157edc054ac9\">\n",
              "    <div class=\"colab-df-container\">\n",
              "      <div>\n",
              "<style scoped>\n",
              "    .dataframe tbody tr th:only-of-type {\n",
              "        vertical-align: middle;\n",
              "    }\n",
              "\n",
              "    .dataframe tbody tr th {\n",
              "        vertical-align: top;\n",
              "    }\n",
              "\n",
              "    .dataframe thead th {\n",
              "        text-align: right;\n",
              "    }\n",
              "</style>\n",
              "<table border=\"1\" class=\"dataframe\">\n",
              "  <thead>\n",
              "    <tr style=\"text-align: right;\">\n",
              "      <th></th>\n",
              "      <th>filepath</th>\n",
              "      <th>label</th>\n",
              "    </tr>\n",
              "  </thead>\n",
              "  <tbody>\n",
              "    <tr>\n",
              "      <th>0</th>\n",
              "      <td>test/0/66062.png</td>\n",
              "      <td>0</td>\n",
              "    </tr>\n",
              "    <tr>\n",
              "      <th>1</th>\n",
              "      <td>test/0/64675.png</td>\n",
              "      <td>0</td>\n",
              "    </tr>\n",
              "    <tr>\n",
              "      <th>2</th>\n",
              "      <td>test/0/62204.png</td>\n",
              "      <td>0</td>\n",
              "    </tr>\n",
              "    <tr>\n",
              "      <th>3</th>\n",
              "      <td>test/0/60407.png</td>\n",
              "      <td>0</td>\n",
              "    </tr>\n",
              "    <tr>\n",
              "      <th>4</th>\n",
              "      <td>test/0/67368.png</td>\n",
              "      <td>0</td>\n",
              "    </tr>\n",
              "  </tbody>\n",
              "</table>\n",
              "</div>\n",
              "      <button class=\"colab-df-convert\" onclick=\"convertToInteractive('df-ecb6fbc8-04ce-40f8-bf40-157edc054ac9')\"\n",
              "              title=\"Convert this dataframe to an interactive table.\"\n",
              "              style=\"display:none;\">\n",
              "        \n",
              "  <svg xmlns=\"http://www.w3.org/2000/svg\" height=\"24px\"viewBox=\"0 0 24 24\"\n",
              "       width=\"24px\">\n",
              "    <path d=\"M0 0h24v24H0V0z\" fill=\"none\"/>\n",
              "    <path d=\"M18.56 5.44l.94 2.06.94-2.06 2.06-.94-2.06-.94-.94-2.06-.94 2.06-2.06.94zm-11 1L8.5 8.5l.94-2.06 2.06-.94-2.06-.94L8.5 2.5l-.94 2.06-2.06.94zm10 10l.94 2.06.94-2.06 2.06-.94-2.06-.94-.94-2.06-.94 2.06-2.06.94z\"/><path d=\"M17.41 7.96l-1.37-1.37c-.4-.4-.92-.59-1.43-.59-.52 0-1.04.2-1.43.59L10.3 9.45l-7.72 7.72c-.78.78-.78 2.05 0 2.83L4 21.41c.39.39.9.59 1.41.59.51 0 1.02-.2 1.41-.59l7.78-7.78 2.81-2.81c.8-.78.8-2.07 0-2.86zM5.41 20L4 18.59l7.72-7.72 1.47 1.35L5.41 20z\"/>\n",
              "  </svg>\n",
              "      </button>\n",
              "      \n",
              "  <style>\n",
              "    .colab-df-container {\n",
              "      display:flex;\n",
              "      flex-wrap:wrap;\n",
              "      gap: 12px;\n",
              "    }\n",
              "\n",
              "    .colab-df-convert {\n",
              "      background-color: #E8F0FE;\n",
              "      border: none;\n",
              "      border-radius: 50%;\n",
              "      cursor: pointer;\n",
              "      display: none;\n",
              "      fill: #1967D2;\n",
              "      height: 32px;\n",
              "      padding: 0 0 0 0;\n",
              "      width: 32px;\n",
              "    }\n",
              "\n",
              "    .colab-df-convert:hover {\n",
              "      background-color: #E2EBFA;\n",
              "      box-shadow: 0px 1px 2px rgba(60, 64, 67, 0.3), 0px 1px 3px 1px rgba(60, 64, 67, 0.15);\n",
              "      fill: #174EA6;\n",
              "    }\n",
              "\n",
              "    [theme=dark] .colab-df-convert {\n",
              "      background-color: #3B4455;\n",
              "      fill: #D2E3FC;\n",
              "    }\n",
              "\n",
              "    [theme=dark] .colab-df-convert:hover {\n",
              "      background-color: #434B5C;\n",
              "      box-shadow: 0px 1px 3px 1px rgba(0, 0, 0, 0.15);\n",
              "      filter: drop-shadow(0px 1px 2px rgba(0, 0, 0, 0.3));\n",
              "      fill: #FFFFFF;\n",
              "    }\n",
              "  </style>\n",
              "\n",
              "      <script>\n",
              "        const buttonEl =\n",
              "          document.querySelector('#df-ecb6fbc8-04ce-40f8-bf40-157edc054ac9 button.colab-df-convert');\n",
              "        buttonEl.style.display =\n",
              "          google.colab.kernel.accessAllowed ? 'block' : 'none';\n",
              "\n",
              "        async function convertToInteractive(key) {\n",
              "          const element = document.querySelector('#df-ecb6fbc8-04ce-40f8-bf40-157edc054ac9');\n",
              "          const dataTable =\n",
              "            await google.colab.kernel.invokeFunction('convertToInteractive',\n",
              "                                                     [key], {});\n",
              "          if (!dataTable) return;\n",
              "\n",
              "          const docLinkHtml = 'Like what you see? Visit the ' +\n",
              "            '<a target=\"_blank\" href=https://colab.research.google.com/notebooks/data_table.ipynb>data table notebook</a>'\n",
              "            + ' to learn more about interactive tables.';\n",
              "          element.innerHTML = '';\n",
              "          dataTable['output_type'] = 'display_data';\n",
              "          await google.colab.output.renderOutput(dataTable, element);\n",
              "          const docLink = document.createElement('div');\n",
              "          docLink.innerHTML = docLinkHtml;\n",
              "          element.appendChild(docLink);\n",
              "        }\n",
              "      </script>\n",
              "    </div>\n",
              "  </div>\n",
              "  "
            ]
          },
          "metadata": {},
          "execution_count": 5
        }
      ]
    },
    {
      "cell_type": "code",
      "source": [
        "# Create Val split\n",
        "\n",
        "# shuffle\n",
        "df_train = df_train.sample(frac=1, random_state=123)\n",
        "\n",
        "# create val\n",
        "loc = round(df_train.shape[0]*0.9)\n",
        "df_new_train = df_train.iloc[:loc]\n",
        "df_new_val = df_train.iloc[loc:]\n",
        "\n",
        "# save train-val splits\n",
        "df_new_train.to_csv('mnist-pngs/new_train.csv', index=None)\n",
        "df_new_val.to_csv('mnist-pngs/new_val.csv', index=None)"
      ],
      "metadata": {
        "id": "SzrHgzrQlHOD"
      },
      "id": "SzrHgzrQlHOD",
      "execution_count": 6,
      "outputs": []
    },
    {
      "cell_type": "markdown",
      "id": "33ce53b7-e04e-4023-9860-9785b9b3b901",
      "metadata": {
        "id": "33ce53b7-e04e-4023-9860-9785b9b3b901"
      },
      "source": [
        "### 1) Defining the Dataset Class"
      ]
    },
    {
      "cell_type": "code",
      "source": [
        "from PIL import Image\n",
        "from torch.utils.data import Dataset"
      ],
      "metadata": {
        "id": "p5sqP9NTldcm"
      },
      "id": "p5sqP9NTldcm",
      "execution_count": 7,
      "outputs": []
    },
    {
      "cell_type": "code",
      "execution_count": 8,
      "id": "e7dae215-f3ff-45a5-bf0e-84d983626a48",
      "metadata": {
        "id": "e7dae215-f3ff-45a5-bf0e-84d983626a48"
      },
      "outputs": [],
      "source": [
        "class MyDataset(Dataset):\n",
        "    def __init__(self, csv_path, img_dir, transform=None):\n",
        "\n",
        "        df = pd.read_csv(csv_path)\n",
        "        self.img_dir = img_dir\n",
        "        self.transform = transform    # optional data transformations\n",
        "\n",
        "        # based on DataFrame columns\n",
        "        self.img_names = df[\"filepath\"]\n",
        "        self.labels = df[\"label\"]\n",
        "\n",
        "    def __getitem__(self, index):\n",
        "        img = Image.open(os.path.join(self.img_dir, self.img_names[index]))\n",
        "\n",
        "        # optinal transformation - data augmentation\n",
        "        if self.transform is not None:\n",
        "            img = self.transform(img)\n",
        "\n",
        "        label = self.labels[index]\n",
        "        return img, label\n",
        "\n",
        "    def __len__(self):\n",
        "        return self.labels.shape[0]"
      ]
    },
    {
      "cell_type": "code",
      "source": [
        "import matplotlib.pyplot as plt\n",
        "import numpy as np\n",
        "import torchvision.utils as vutils"
      ],
      "metadata": {
        "id": "OvSVBHO1lxz6"
      },
      "id": "OvSVBHO1lxz6",
      "execution_count": 10,
      "outputs": []
    },
    {
      "cell_type": "code",
      "source": [
        "def viz_batch_images(batch):\n",
        "\t\"\"\" Visualize images in the batch \"\"\"\n",
        "\t\n",
        "    plt.figure(figsize=(8, 8))\n",
        "    plt.axis(\"off\")\n",
        "    plt.title(\"Training images\")\n",
        "    plt.imshow(\n",
        "        np.transpose(\n",
        "            vutils.make_grid(batch[0][:64], padding=2, normalize=True), (1, 2, 0)\n",
        "        )\n",
        "    )\n",
        "    plt.show()"
      ],
      "metadata": {
        "id": "jTk8wdqilvne"
      },
      "id": "jTk8wdqilvne",
      "execution_count": null,
      "outputs": []
    },
    {
      "cell_type": "markdown",
      "id": "58d62288-d414-473d-b281-a287df0a71fa",
      "metadata": {
        "id": "58d62288-d414-473d-b281-a287df0a71fa"
      },
      "source": [
        "### Defining optional image transformations"
      ]
    },
    {
      "cell_type": "code",
      "source": [
        "from torchvision import transforms"
      ],
      "metadata": {
        "id": "GheRwT62mG-s"
      },
      "id": "GheRwT62mG-s",
      "execution_count": 11,
      "outputs": []
    },
    {
      "cell_type": "code",
      "execution_count": 12,
      "id": "66a6ae1b-b549-4b8a-8e50-bedba63d6e19",
      "metadata": {
        "id": "66a6ae1b-b549-4b8a-8e50-bedba63d6e19"
      },
      "outputs": [],
      "source": [
        "# Data Augmentations - transformations\n",
        "data_transforms = {\n",
        "    \"train\": transforms.Compose(\n",
        "        [\n",
        "            transforms.Resize(32),\n",
        "            transforms.RandomCrop((28, 28)),\n",
        "            transforms.ToTensor(),\n",
        "            # normalize images to [-1, 1] range\n",
        "            transforms.Normalize((0.5,), (0.5,)),\n",
        "        ]\n",
        "    ),\n",
        "    \"test\": transforms.Compose(\n",
        "        [\n",
        "            transforms.Resize(32),\n",
        "            transforms.CenterCrop((28, 28)),\n",
        "            transforms.ToTensor(),\n",
        "            # normalize images to [-1, 1] range\n",
        "            transforms.Normalize((0.5,), (0.5,)),\n",
        "        ]\n",
        "    ),\n",
        "}"
      ]
    },
    {
      "cell_type": "markdown",
      "id": "aa872422-2650-4639-91eb-b70e02acaac9",
      "metadata": {
        "id": "aa872422-2650-4639-91eb-b70e02acaac9"
      },
      "source": [
        "### 2-3) Defining the DataSets and DataLoaders"
      ]
    },
    {
      "cell_type": "code",
      "execution_count": 13,
      "id": "7760203f-a60e-4f6f-9483-4b78587fe93a",
      "metadata": {
        "id": "7760203f-a60e-4f6f-9483-4b78587fe93a"
      },
      "outputs": [],
      "source": [
        "from torch.utils.data import DataLoader\n",
        "\n",
        "train_dataset = MyDataset(\n",
        "    csv_path=\"mnist-pngs/new_train.csv\",\n",
        "    img_dir=\"mnist-pngs/\",\n",
        "    transform=data_transforms[\"train\"],\n",
        ")\n",
        "\n",
        "# DataLoader - wrapper around the dataset\n",
        "train_loader = DataLoader(\n",
        "    dataset=train_dataset,\n",
        "    batch_size=32,\n",
        "    shuffle=True,   # want to shuffle the dataset\n",
        "    num_workers=0,  # number processes/CPUs to use\n",
        ")"
      ]
    },
    {
      "cell_type": "code",
      "execution_count": 14,
      "id": "3736c925-cb06-4bd1-b34b-a8b8e857fb0f",
      "metadata": {
        "id": "3736c925-cb06-4bd1-b34b-a8b8e857fb0f"
      },
      "outputs": [],
      "source": [
        "val_dataset = MyDataset(\n",
        "    csv_path=\"mnist-pngs/new_val.csv\",\n",
        "    img_dir=\"mnist-pngs/\",\n",
        "    transform=data_transforms[\"test\"],\n",
        ")\n",
        "\n",
        "val_loader = DataLoader(\n",
        "    dataset=val_dataset,\n",
        "    batch_size=32,\n",
        "    shuffle=False,\n",
        "    num_workers=0,\n",
        ")"
      ]
    },
    {
      "cell_type": "code",
      "execution_count": 15,
      "id": "04ea739e-ba4e-4b33-8113-16c8bee73687",
      "metadata": {
        "id": "04ea739e-ba4e-4b33-8113-16c8bee73687"
      },
      "outputs": [],
      "source": [
        "test_dataset = MyDataset(\n",
        "    csv_path=\"mnist-pngs/test.csv\",\n",
        "    img_dir=\"mnist-pngs/\",\n",
        "    transform=data_transforms[\"test\"],\n",
        ")\n",
        "\n",
        "test_loader = DataLoader(\n",
        "    dataset=test_dataset,\n",
        "    batch_size=32,\n",
        "    shuffle=False,\n",
        "    num_workers=0\n",
        ")"
      ]
    },
    {
      "cell_type": "markdown",
      "id": "d378ee04-d824-4591-bcee-8f7a68b53cad",
      "metadata": {
        "id": "d378ee04-d824-4591-bcee-8f7a68b53cad"
      },
      "source": [
        "### 4) Testing the data loaders"
      ]
    },
    {
      "cell_type": "code",
      "execution_count": null,
      "id": "d1a5518a-0d15-4ee8-8ec7-04b52922df1a",
      "metadata": {
        "id": "d1a5518a-0d15-4ee8-8ec7-04b52922df1a",
        "outputId": "2f949f14-8771-43c2-9a68-7f6443baf395"
      },
      "outputs": [
        {
          "name": "stdout",
          "output_type": "stream",
          "text": [
            " Batch index: 0 | Batch size: 32 | x shape: torch.Size([32, 1, 28, 28]) | y shape: torch.Size([32])\n",
            " Batch index: 1 | Batch size: 32 | x shape: torch.Size([32, 1, 28, 28]) | y shape: torch.Size([32])\n",
            " Batch index: 2 | Batch size: 32 | x shape: torch.Size([32, 1, 28, 28]) | y shape: torch.Size([32])\n",
            "Labels from current batch: tensor([9, 1, 3, 2, 8, 4, 8, 3, 1, 3, 6, 5, 4, 9, 6, 2, 6, 0, 5, 8, 0, 5, 1, 0,\n",
            "        4, 2, 3, 8, 5, 5, 4, 6])\n"
          ]
        }
      ],
      "source": [
        "import time\n",
        "\n",
        "num_epochs = 1\n",
        "for epoch in range(num_epochs):\n",
        "\n",
        "    for batch_idx, (x, y) in enumerate(train_loader):\n",
        "        time.sleep(1)\n",
        "        if batch_idx >= 3:\n",
        "            break\n",
        "        print(\" Batch index:\", batch_idx, end=\"\")\n",
        "        print(\" | Batch size:\", y.shape[0], end=\"\")\n",
        "        print(\" | x shape:\", x.shape, end=\"\")\n",
        "        print(\" | y shape:\", y.shape)\n",
        "\n",
        "print(\"Labels from current batch:\", y)\n",
        "\n",
        "# Uncomment to visualize a data batch:\n",
        "# batch = next(iter(train_loader))\n",
        "# viz_batch_images(batch[0])"
      ]
    }
  ],
  "metadata": {
    "kernelspec": {
      "display_name": "Python 3 (ipykernel)",
      "language": "python",
      "name": "python3"
    },
    "language_info": {
      "codemirror_mode": {
        "name": "ipython",
        "version": 3
      },
      "file_extension": ".py",
      "mimetype": "text/x-python",
      "name": "python",
      "nbconvert_exporter": "python",
      "pygments_lexer": "ipython3",
      "version": "3.9.15"
    },
    "colab": {
      "provenance": [],
      "toc_visible": true
    }
  },
  "nbformat": 4,
  "nbformat_minor": 5
}